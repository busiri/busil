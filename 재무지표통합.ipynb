{
  "cells": [
    {
      "cell_type": "markdown",
      "metadata": {
        "id": "view-in-github",
        "colab_type": "text"
      },
      "source": [
        "<a href=\"https://colab.research.google.com/github/busiri/busil/blob/main/%EC%9E%AC%EB%AC%B4%EC%A7%80%ED%91%9C%ED%86%B5%ED%95%A9.ipynb\" target=\"_parent\"><img src=\"https://colab.research.google.com/assets/colab-badge.svg\" alt=\"Open In Colab\"/></a>"
      ]
    },
    {
      "cell_type": "code",
      "execution_count": null,
      "id": "f26db1e5",
      "metadata": {
        "id": "f26db1e5"
      },
      "outputs": [],
      "source": [
        "import pandas as pd\n",
        "import numpy as np"
      ]
    },
    {
      "cell_type": "code",
      "execution_count": null,
      "id": "e2f407d9",
      "metadata": {
        "id": "e2f407d9"
      },
      "outputs": [],
      "source": [
        "df = pd.read_csv(\"data\\파생위한재무종합.csv\",index_col=0)\n",
        "df['회계년도'] = df['회계년도'].str.split('/').str[0]\n",
        "df['회계년도'] = df['회계년도'].astype('int64')\n",
        "df.drop(columns=['연결_추가여부', '개별_추가여부', 'kos_gaap_추가여부','비상장_연결_추가여부', '비상장_개별_추가여부', '비상장_gaap_추가여부'],inplace=True)"
      ]
    },
    {
      "cell_type": "code",
      "execution_count": null,
      "id": "1aee57c5",
      "metadata": {
        "id": "1aee57c5"
      },
      "outputs": [],
      "source": [
        "df1 = pd.read_csv('data\\이자비용처리 전 데이터.csv',index_col=0)\n",
        "join_data = df1.merge(df,how='left',on=['회사명','거래소코드','회계년도'])"
      ]
    },
    {
      "cell_type": "code",
      "execution_count": null,
      "id": "90e91a03",
      "metadata": {
        "id": "90e91a03"
      },
      "outputs": [],
      "source": [
        "join_data = join_data[join_data['이자보상배율(이자비용)'] != 999999999]"
      ]
    },
    {
      "cell_type": "code",
      "execution_count": null,
      "id": "87067d80",
      "metadata": {
        "id": "87067d80"
      },
      "outputs": [],
      "source": [
        "join_data['GAAP'] = join_data['kos_gaap_추가여부'] + join_data['out_gaap_1_추가여부'] + join_data['out_gaap_2_추가여부'] + \\\n",
        "join_data['out_gaap_3_추가여부'] + join_data['out_gaap_4_추가여부']\n",
        "join_data.rename(columns={'연결_추가여부' : 'IFRS_CONN','개별_추가여부' : 'IFRS'},inplace=True)"
      ]
    },
    {
      "cell_type": "code",
      "execution_count": null,
      "id": "750e05a7",
      "metadata": {
        "id": "750e05a7",
        "outputId": "faf76d52-afb2-43d4-a0b8-39bc0e22fec9"
      },
      "outputs": [
        {
          "name": "stderr",
          "output_type": "stream",
          "text": [
            "c:\\Users\\fursew\\AppData\\Local\\Programs\\Python\\Python311\\Lib\\site-packages\\pandas\\core\\arraylike.py:399: RuntimeWarning: invalid value encountered in log\n",
            "  result = getattr(ufunc, method)(*inputs, **kwargs)\n",
            "c:\\Users\\fursew\\AppData\\Local\\Programs\\Python\\Python311\\Lib\\site-packages\\pandas\\core\\arraylike.py:399: RuntimeWarning: invalid value encountered in log\n",
            "  result = getattr(ufunc, method)(*inputs, **kwargs)\n"
          ]
        }
      ],
      "source": [
        "# 0) 로그 변환 지표 추가\n",
        "join_data['/ 로그매출액'] = np.log(join_data['매출액(천원)'].replace(0, np.nan))\n",
        "join_data['/ 로그자산']   = np.log(join_data['자산(천원)'].replace(0, np.nan))\n",
        "join_data['EBIT'] = join_data['법인세비용차감전손익(천원)'] + join_data['이자비용(천원)']"
      ]
    },
    {
      "cell_type": "code",
      "execution_count": null,
      "id": "e400acb9",
      "metadata": {
        "id": "e400acb9"
      },
      "outputs": [],
      "source": [
        "join_data.replace([np.inf, -np.inf], np.nan, inplace=True)"
      ]
    },
    {
      "cell_type": "code",
      "execution_count": null,
      "id": "65ea3485",
      "metadata": {
        "id": "65ea3485"
      },
      "outputs": [],
      "source": [
        "def add_derived_vars_no_lag(df: pd.DataFrame) -> pd.DataFrame:\n",
        "    df = df.copy()\n",
        "\n",
        "    # 0) 로그 변환 지표 추가\n",
        "    df['/ 로그매출액'] = np.log(df['매출액(천원)'].replace(0, np.nan))\n",
        "    df['/ 로그자산']   = np.log(df['자산(천원)'].replace(0, np.nan))\n",
        "\n",
        "    # 안전 나눗셈 도우미\n",
        "    def safe_div(num, denom):\n",
        "        return np.where(denom == 0, np.nan, num / denom)\n",
        "\n",
        "    # 1) 안정성 비율\n",
        "    df['/ 현금/총자산 비율'] = safe_div(df['현금및현금성자산(천원)'], df['자산(천원)'])\n",
        "    df['/ 이익잉여금/총자산 비율'] = safe_div(df['이익잉여금(천원)'], df['자산(천원)'])\n",
        "    df['/ 급여/총자산 비율'] = safe_div(df['급여(천원)'],df['자산(천원)'])\n",
        "\n",
        "    # 2) 비용·레버리지·효율\n",
        "    df['/ 급여/매출액 비율'] = safe_div(df['급여(천원)'],df['매출액(천원)'])\n",
        "    df['/ 업력 효율지수'] = safe_div(df['매출액(천원)'],df['업력'])\n",
        "    df['/ 매출원가/부채 비율'] = safe_div(df['매출원가(천원)'],df['부채(천원)'])\n",
        "    df['/ 급여/세전순익 비율'] = safe_div(df['급여(천원)'],df['법인세비용차감전손익(천원)'])\n",
        "    df['/ 영업 레버리지'] = safe_div(df['영업이익증가율'],df['매출액증가율'])\n",
        "    df['/ 재무 레버리지'] = safe_div(\n",
        "        df['영업이익(손실)(천원)'],\n",
        "        df['영업이익(손실)(천원)'] - df['이자비용(천원)']\n",
        "    )\n",
        "    df['/ 결합 레버리지'] = df['/ 영업 레버리지'] * df['/ 재무 레버리지']\n",
        "\n",
        "    # 3) 추가 비용·레버리지 지표\n",
        "    df['/ 금융비용부담률'] = safe_div(df['이자비용(천원)'], df['매출액(천원)'])\n",
        "\n",
        "    # 4) 현금흐름 변수\n",
        "    df['/ 영업CF/자산 비율'] = safe_div(df['영업현금흐름(천원)'],df['자산(천원)'])\n",
        "    df['/ 투자CF/자산 비율'] = safe_div(df['투자활동으로 인한 현금흐름(*)(천원)'], df['자산(천원)'])\n",
        "    df['/ 영업CF/유동부채 비율'] = safe_div(df['영업현금흐름(천원)'],df['유동부채(천원)'])\n",
        "    total_borrow = df.get('총차입금(천원)', df['부채(천원)'])\n",
        "    df['/ 재무CF/총차입금 비율'] = safe_div(df['재무활동으로 인한 현금흐름(*)(천원)'], total_borrow)\n",
        "\n",
        "    # 5) 통합현금흐름 긍정여부\n",
        "    cf_sum = (\n",
        "        df['영업현금흐름(천원)']\n",
        "      + df['투자활동으로 인한 현금흐름(*)(천원)']\n",
        "      + df['재무활동으로 인한 현금흐름(*)(천원)']\n",
        "    )\n",
        "    df['/ 현금흐름통합_긍정여부'] = np.where(cf_sum > 0, 1, 0)\n",
        "\n",
        "    # 6) 투하자본수익률 (영업이익 ÷ (자본+부채) ×100)\n",
        "    total_cap = df['자본(천원)'] + df['부채(천원)']\n",
        "    df['/ 투하자본수익률'] = safe_div(df['영업이익(손실)(천원)'], total_cap) * 100\n",
        "\n",
        "    # 7) 무한대 → NaN\n",
        "    df.replace([np.inf, -np.inf], np.nan, inplace=True)\n",
        "    return df"
      ]
    },
    {
      "cell_type": "code",
      "execution_count": null,
      "id": "f4944357",
      "metadata": {
        "id": "f4944357",
        "outputId": "8ef87676-8700-4f83-bc09-260401772805"
      },
      "outputs": [
        {
          "name": "stderr",
          "output_type": "stream",
          "text": [
            "c:\\Users\\fursew\\AppData\\Local\\Programs\\Python\\Python311\\Lib\\site-packages\\pandas\\core\\arraylike.py:399: RuntimeWarning: invalid value encountered in log\n",
            "  result = getattr(ufunc, method)(*inputs, **kwargs)\n",
            "c:\\Users\\fursew\\AppData\\Local\\Programs\\Python\\Python311\\Lib\\site-packages\\pandas\\core\\arraylike.py:399: RuntimeWarning: invalid value encountered in log\n",
            "  result = getattr(ufunc, method)(*inputs, **kwargs)\n"
          ]
        }
      ],
      "source": [
        "final = add_derived_vars_no_lag(join_data)"
      ]
    },
    {
      "cell_type": "code",
      "execution_count": null,
      "id": "ca8043f3",
      "metadata": {
        "id": "ca8043f3"
      },
      "outputs": [],
      "source": [
        "final['EBIT'] = final['법인세비용차감전손익(천원)'] + final['이자비용(천원)']\n",
        "final['EBIT / 자산'] = final['EBIT']/final['자산(천원)']\n",
        "final['EBIT / 매출액'] = final['EBIT']/final['매출액(천원)']\n",
        "final['EBIT / 영업현금흐름(천원)'] = final['EBIT']/final['영업현금흐름(천원)']"
      ]
    },
    {
      "cell_type": "code",
      "execution_count": null,
      "id": "1169a844",
      "metadata": {
        "id": "1169a844"
      },
      "outputs": [],
      "source": [
        "final.replace([np.inf, -np.inf], np.nan, inplace=True)"
      ]
    },
    {
      "cell_type": "code",
      "execution_count": null,
      "id": "19650e26",
      "metadata": {
        "id": "19650e26"
      },
      "outputs": [],
      "source": [
        "flag = join_data['업력'] >= 0\n",
        "join_data = join_data.loc[flag]"
      ]
    },
    {
      "cell_type": "code",
      "execution_count": null,
      "id": "219e637d",
      "metadata": {
        "id": "219e637d"
      },
      "outputs": [],
      "source": [
        "drop_cols = ['kos_gaap_추가여부',\n",
        " 'out_gaap_1_추가여부',\n",
        " 'out_gaap_2_추가여부',\n",
        " 'out_gaap_3_추가여부',\n",
        " 'out_gaap_4_추가여부']\n",
        "join_data.drop(columns=drop_cols,inplace=True)"
      ]
    },
    {
      "cell_type": "code",
      "execution_count": null,
      "id": "b5518468",
      "metadata": {
        "id": "b5518468"
      },
      "outputs": [],
      "source": [
        "eda_data = join_data[join_data['회계년도']>2011]"
      ]
    },
    {
      "cell_type": "code",
      "execution_count": null,
      "id": "4e0322e4",
      "metadata": {
        "id": "4e0322e4",
        "outputId": "e38e263e-3ed1-491f-82c7-acea25b9a504"
      },
      "outputs": [
        {
          "data": {
            "text/plain": [
              "['회사명',\n",
              " '거래소코드',\n",
              " '회계년도',\n",
              " '총자본증가율',\n",
              " '유형자산증가율',\n",
              " '비유동자산증가율',\n",
              " '유동자산증가율',\n",
              " '재고자산증가율',\n",
              " '자기자본증가율',\n",
              " '매출액증가율',\n",
              " '영업이익증가율',\n",
              " '순이익증가율',\n",
              " '종업원1인당 부가가치증가율',\n",
              " '종업원수증가율',\n",
              " '종업원1인당 매출액증가율',\n",
              " '종업원1인당 인건비증가율',\n",
              " '매출액총이익률',\n",
              " '영업이익률(매출액)',\n",
              " '매출액순이익률',\n",
              " '총자본사업이익률',\n",
              " '총자본영업이익률',\n",
              " '총자본순이익률',\n",
              " '자기자본영업이익률',\n",
              " '자기자본순이익률',\n",
              " '경영자본영업이익률',\n",
              " '경영자본순이익률',\n",
              " '자본금영업이익률',\n",
              " '자본금순이익률',\n",
              " '매출원가 대 매출액비율',\n",
              " '영업비용대영업수익비율',\n",
              " '금융비용부담률',\n",
              " '외환이익 대 매출액비율',\n",
              " '광고선전비 대 매출액비율',\n",
              " '세전이익대비세금율(차감전)',\n",
              " '기업순이익률',\n",
              " '수지비율',\n",
              " '인건비 대 총비용비율',\n",
              " 'R & D 투자효율',\n",
              " '총비용대비세금율',\n",
              " '금융비용 대 총비용비율',\n",
              " '감가상각비 대 총비용비율',\n",
              " '감가상각률',\n",
              " '누적감가상각률',\n",
              " '이자부담률',\n",
              " '지급이자율',\n",
              " '차입금평균이자율',\n",
              " '유보율',\n",
              " '사내유보율',\n",
              " '사내유보 대 자기자본비율',\n",
              " '적립금비율(재정비율)',\n",
              " '평균배당률',\n",
              " '자기자본배당률',\n",
              " '배당성향',\n",
              " '1주당매출액(원)',\n",
              " '유동자산구성비율',\n",
              " '재고자산 대 유동자산비율',\n",
              " '유동자산 대 비유동자산비율',\n",
              " '당좌자산구성비율',\n",
              " '비유동자산구성비율',\n",
              " '자기자본구성비율',\n",
              " '타인자본구성비율',\n",
              " '자기자본배율',\n",
              " '비유동비율',\n",
              " '비유동장기적합률',\n",
              " '유동비율',\n",
              " '당좌비율',\n",
              " '현금비율',\n",
              " '매출채권비율',\n",
              " '재고자산 대 순운전자본비율',\n",
              " '매출채권 대 매입채무비율',\n",
              " '매출채권 대 상,제품비율',\n",
              " '매입채무 대 재고자산비율',\n",
              " '부채비율',\n",
              " '유동부채비율',\n",
              " '단기차입금 대 총차입금비율',\n",
              " '비유동부채비율',\n",
              " '비유동부채 대 순운전자본비율',\n",
              " '순운전자본비율',\n",
              " '차입금의존도',\n",
              " '차입금비율',\n",
              " '이자보상배율(이자비용)',\n",
              " '이자보상배율(순금융비용)',\n",
              " '유보액대비율',\n",
              " '유보액 대 납입자본배율',\n",
              " '유동자산집중도',\n",
              " '비유동자산집중도',\n",
              " '투자집중도',\n",
              " 'CASH FLOW 대 부채비율',\n",
              " 'CASH FLOW 대 차입금비율',\n",
              " 'CASH FLOW 대 총자본비율',\n",
              " 'CASH FLOW 대 매출액비율',\n",
              " '이자보상배율(영업이익)',\n",
              " '총자본회전률',\n",
              " '경영자본회전률',\n",
              " '자기자본회전률',\n",
              " '자본금회전률',\n",
              " '타인자본회전률',\n",
              " '매입채무회전률',\n",
              " '매입채무회전기간',\n",
              " '유동자산회전률',\n",
              " '당좌자산회전률',\n",
              " '재고자산회전률',\n",
              " '재고자산회전기간',\n",
              " '상품,제품회전률',\n",
              " '원,부재료회전률',\n",
              " '재공품회전률',\n",
              " '매출채권회전률',\n",
              " '매출채권회전기간',\n",
              " '비유동자산회전률',\n",
              " '유형자산회전율',\n",
              " '순운전자본회전률',\n",
              " '운전자본회전률',\n",
              " '1회전기간',\n",
              " '부가가치(백만원)',\n",
              " '종업원1인당 부가가치(백만원)',\n",
              " '종업원1인당 매출액(백만원)',\n",
              " '종업원당영업이익(백만원)',\n",
              " '종업원1인당 순이익(백만원)',\n",
              " '종업원1인당 인건비(백만원)',\n",
              " '노동장비율',\n",
              " '기계장비율',\n",
              " '자본집약도',\n",
              " '총자본투자효율',\n",
              " '설비투자효율',\n",
              " '기계투자효율',\n",
              " '부가가치율',\n",
              " '노동소득분배율',\n",
              " '자본분배율',\n",
              " '이윤분배율',\n",
              " '영업현금흐름(천원)',\n",
              " '투자활동으로 인한 현금흐름(*)(천원)',\n",
              " '재무활동으로 인한 현금흐름(*)(천원)',\n",
              " 'IFRS_CONN',\n",
              " 'IFRS',\n",
              " '기업규모명',\n",
              " '통계청 한국표준산업분류 11차(대분류)',\n",
              " '종업원',\n",
              " '상장폐지일',\n",
              " '미국실업률변화율',\n",
              " '유로실업률변화율',\n",
              " '일본실업률변화율',\n",
              " '영국실업률변화율',\n",
              " '무역수지변화율',\n",
              " '미국소비자물가지수변화율',\n",
              " '소비자판매액지수변화율',\n",
              " '실질GDP변화율',\n",
              " '연준금리변화율',\n",
              " 'GDP변화율',\n",
              " '소비자심리지수변화율',\n",
              " '미국비농업고용지수변화율',\n",
              " '정책금리변화율',\n",
              " '외국인투자동향(전체)변화율',\n",
              " 'Lf 평잔변화율',\n",
              " '경제심리지수변화율',\n",
              " '수입물량지수변화율',\n",
              " '수출물량지수변화율',\n",
              " '수입물가지수변화율',\n",
              " '수출물가지수변화율',\n",
              " '소비자물가지수변화율',\n",
              " '경기종합지수변화율',\n",
              " '경상수지변화율',\n",
              " '생산자물가지수변화율',\n",
              " '예금은행 총수신변화율',\n",
              " '외환보유액변화율',\n",
              " 'spread_10y_3y변화율',\n",
              " 'spread_10y_3m변화율',\n",
              " 'credit_spread_AA변화율',\n",
              " 'credit_spread_BBB변화율',\n",
              " '나스닥변화율',\n",
              " '유로화변화율',\n",
              " '파운드화변화율',\n",
              " '엔화변화율',\n",
              " 'LNG변화율',\n",
              " 'WTI유변화율',\n",
              " '가솔린변화율',\n",
              " '구리변화율',\n",
              " '난방유변화율',\n",
              " '납변화율',\n",
              " '니켈변화율',\n",
              " '대두변화율',\n",
              " '면변화율',\n",
              " '밀변화율',\n",
              " '설탕변화율',\n",
              " '쌀변화율',\n",
              " '알루미늄변화율',\n",
              " '옥수수변화율',\n",
              " '주석변화율',\n",
              " '천연가스변화율',\n",
              " '커피변화율',\n",
              " '코코아변화율',\n",
              " '금 수익률',\n",
              " '돈육 수익률',\n",
              " '백금 수익률',\n",
              " '생우 수익률',\n",
              " '육우 수익률',\n",
              " '은 수익률',\n",
              " '명목 달러 인덱스 변화율',\n",
              " '실질 달러 인덱스 변화율',\n",
              " 'VIX변화율',\n",
              " 'US_spread_10y_3y변화율',\n",
              " 'US_spread_10y_3m변화율',\n",
              " 'US_credit_spread_AA변화율',\n",
              " 'credit_spread_BBB.1변화율',\n",
              " 'DOW JONES변화율',\n",
              " 'NASDAQ변화율',\n",
              " 'S&P500변화율',\n",
              " 'kospi변화율',\n",
              " 'kosdaq변화율',\n",
              " 'G20경기선행지수변화율',\n",
              " 'Korea경기선행지수변화율',\n",
              " 'US경기선행지수변화율',\n",
              " 'China경기선행지수변화율',\n",
              " '대표이사변경여부',\n",
              " '수도권',\n",
              " '업력',\n",
              " '부실여부',\n",
              " '급여(천원)',\n",
              " '당기순이익(손실)(천원)',\n",
              " '대손상각비(천원)',\n",
              " '매출액(천원)',\n",
              " '매출원가(천원)',\n",
              " '법인세비용차감전손익(천원)',\n",
              " '부채(천원)',\n",
              " '비유동자산(천원)',\n",
              " '영업비용(천원)',\n",
              " '영업이익(손실)(천원)',\n",
              " '유동부채(천원)',\n",
              " '유동자산(천원)',\n",
              " '이익잉여금(천원)',\n",
              " '이자비용(천원)',\n",
              " '이자수익(천원)',\n",
              " '자본(천원)',\n",
              " '자본금(천원)',\n",
              " '자본잉여금(천원)',\n",
              " '자산(천원)',\n",
              " '재고자산(천원)',\n",
              " '현금및현금성자산(천원)',\n",
              " 'GAAP',\n",
              " '/ 로그매출액',\n",
              " '/ 로그자산',\n",
              " 'EBIT']"
            ]
          },
          "execution_count": 13,
          "metadata": {},
          "output_type": "execute_result"
        }
      ],
      "source": [
        "eda_data.columns.to_list()"
      ]
    },
    {
      "cell_type": "code",
      "execution_count": null,
      "id": "b2c6de33",
      "metadata": {
        "id": "b2c6de33",
        "outputId": "30faee40-da29-425b-a7c3-c004eb6bf747"
      },
      "outputs": [
        {
          "data": {
            "text/plain": [
              "(229940, 164)"
            ]
          },
          "execution_count": 19,
          "metadata": {},
          "output_type": "execute_result"
        }
      ],
      "source": [
        "거시 = ['미국실업률변화율',\n",
        " '유로실업률변화율',\n",
        " '일본실업률변화율',\n",
        " '영국실업률변화율',\n",
        " '무역수지변화율',\n",
        " '미국소비자물가지수변화율',\n",
        " '소비자판매액지수변화율',\n",
        " '실질GDP변화율',\n",
        " '연준금리변화율',\n",
        " 'GDP변화율',\n",
        " '소비자심리지수변화율',\n",
        " '미국비농업고용지수변화율',\n",
        " '정책금리변화율',\n",
        " '외국인투자동향(전체)변화율',\n",
        " 'Lf 평잔변화율',\n",
        " '경제심리지수변화율',\n",
        " '수입물량지수변화율',\n",
        " '수출물량지수변화율',\n",
        " '수입물가지수변화율',\n",
        " '수출물가지수변화율',\n",
        " '소비자물가지수변화율',\n",
        " '경기종합지수변화율',\n",
        " '경상수지변화율',\n",
        " '생산자물가지수변화율',\n",
        " '예금은행 총수신변화율',\n",
        " '외환보유액변화율',\n",
        " 'spread_10y_3y변화율',\n",
        " 'spread_10y_3m변화율',\n",
        " 'credit_spread_AA변화율',\n",
        " 'credit_spread_BBB변화율',\n",
        " '나스닥변화율',\n",
        " '유로화변화율',\n",
        " '파운드화변화율',\n",
        " '엔화변화율',\n",
        " 'LNG변화율',\n",
        " 'WTI유변화율',\n",
        " '가솔린변화율',\n",
        " '구리변화율',\n",
        " '난방유변화율',\n",
        " '납변화율',\n",
        " '니켈변화율',\n",
        " '대두변화율',\n",
        " '면변화율',\n",
        " '밀변화율',\n",
        " '설탕변화율',\n",
        " '쌀변화율',\n",
        " '알루미늄변화율',\n",
        " '옥수수변화율',\n",
        " '주석변화율',\n",
        " '천연가스변화율',\n",
        " '커피변화율',\n",
        " '코코아변화율',\n",
        " '금 수익률',\n",
        " '돈육 수익률',\n",
        " '백금 수익률',\n",
        " '생우 수익률',\n",
        " '육우 수익률',\n",
        " '은 수익률',\n",
        " '명목 달러 인덱스 변화율',\n",
        " '실질 달러 인덱스 변화율',\n",
        " 'VIX변화율',\n",
        " 'US_spread_10y_3y변화율',\n",
        " 'US_spread_10y_3m변화율',\n",
        " 'US_credit_spread_AA변화율',\n",
        " 'credit_spread_BBB.1변화율',\n",
        " 'DOW JONES변화율',\n",
        " 'NASDAQ변화율',\n",
        " 'S&P500변화율',\n",
        " 'kospi변화율',\n",
        " 'kosdaq변화율',\n",
        " 'G20경기선행지수변화율',\n",
        " 'Korea경기선행지수변화율',\n",
        " 'US경기선행지수변화율',\n",
        " 'China경기선행지수변화율']\n",
        "eda_not_market = eda_data.drop(columns=거시)\n",
        "eda_not_market.shape"
      ]
    },
    {
      "cell_type": "code",
      "execution_count": null,
      "id": "a3e57ffb",
      "metadata": {
        "id": "a3e57ffb",
        "outputId": "d52f0ec5-c815-4d35-9d21-c8f250ad0896"
      },
      "outputs": [
        {
          "name": "stderr",
          "output_type": "stream",
          "text": [
            "C:\\Users\\fursew\\AppData\\Local\\Temp\\ipykernel_14412\\1827388257.py:1: SettingWithCopyWarning: \n",
            "A value is trying to be set on a copy of a slice from a DataFrame\n",
            "\n",
            "See the caveats in the documentation: https://pandas.pydata.org/pandas-docs/stable/user_guide/indexing.html#returning-a-view-versus-a-copy\n",
            "  eda_data.drop(columns=[ '이자보상배율(이자비용)',\n"
          ]
        }
      ],
      "source": [
        "eda_data.drop(columns=[ '이자보상배율(이자비용)',\n",
        " '이자보상배율(순금융비용)',\n",
        "'이자보상배율(영업이익)'\n",
        "],inplace=True)"
      ]
    },
    {
      "cell_type": "code",
      "execution_count": null,
      "id": "8a4b9518",
      "metadata": {
        "id": "8a4b9518"
      },
      "outputs": [],
      "source": [
        "object_cols = [\n",
        "'IFRS_CONN',\n",
        " 'IFRS',\n",
        "'대표이사변경여부',\n",
        " '수도권','부실여부','GAAP']\n",
        "\n",
        "for col in object_cols:\n",
        "    eda_data[col] = eda_data[col].astype('object')"
      ]
    },
    {
      "cell_type": "code",
      "execution_count": null,
      "id": "a2043bda",
      "metadata": {
        "id": "a2043bda"
      },
      "outputs": [],
      "source": [
        "eda = eda_not_market.select_dtypes(include=[np.number])"
      ]
    },
    {
      "cell_type": "code",
      "execution_count": null,
      "id": "b4bf78b1",
      "metadata": {
        "id": "b4bf78b1"
      },
      "outputs": [],
      "source": [
        "join_data['업력_범주11'] = join_data['업력'].map(lambda x : 1 if x>11 else 0)\n",
        "join_data['업력_범주12'] = join_data['업력'].map(lambda x : 1 if x>12 else 0)\n",
        "join_data['업력_범주15'] = join_data['업력'].map(lambda x : 1 if x>15 else 0)"
      ]
    },
    {
      "cell_type": "code",
      "execution_count": null,
      "id": "1fec06b4",
      "metadata": {
        "id": "1fec06b4"
      },
      "outputs": [],
      "source": [
        "final.drop(columns=drop_cols,inplace=True)"
      ]
    },
    {
      "cell_type": "code",
      "execution_count": null,
      "id": "1dae3e2b",
      "metadata": {
        "id": "1dae3e2b"
      },
      "outputs": [],
      "source": [
        "final_data = df[df['회계년도']>2011]"
      ]
    },
    {
      "cell_type": "code",
      "execution_count": null,
      "id": "3dff8191",
      "metadata": {
        "id": "3dff8191",
        "outputId": "8880eca8-a43c-489a-a7f1-e64b11bfbbfc"
      },
      "outputs": [
        {
          "data": {
            "text/plain": [
              "(302105, 27)"
            ]
          },
          "execution_count": 44,
          "metadata": {},
          "output_type": "execute_result"
        }
      ],
      "source": [
        "final_data.shape"
      ]
    },
    {
      "cell_type": "code",
      "execution_count": null,
      "id": "b9e35653",
      "metadata": {
        "id": "b9e35653"
      },
      "outputs": [],
      "source": [
        "final_data.to_csv('data/EDA데이터.csv',index=False)"
      ]
    },
    {
      "cell_type": "code",
      "execution_count": null,
      "id": "beb74e7f",
      "metadata": {
        "id": "beb74e7f",
        "outputId": "47dde91c-55c0-4609-9444-352130bcb939"
      },
      "outputs": [
        {
          "data": {
            "text/html": [
              "<div>\n",
              "<style scoped>\n",
              "    .dataframe tbody tr th:only-of-type {\n",
              "        vertical-align: middle;\n",
              "    }\n",
              "\n",
              "    .dataframe tbody tr th {\n",
              "        vertical-align: top;\n",
              "    }\n",
              "\n",
              "    .dataframe thead th {\n",
              "        text-align: right;\n",
              "    }\n",
              "</style>\n",
              "<table border=\"1\" class=\"dataframe\">\n",
              "  <thead>\n",
              "    <tr style=\"text-align: right;\">\n",
              "      <th></th>\n",
              "      <th>회사명</th>\n",
              "      <th>거래소코드</th>\n",
              "      <th>회계년도</th>\n",
              "      <th>총자본증가율</th>\n",
              "      <th>유형자산증가율</th>\n",
              "      <th>비유동자산증가율</th>\n",
              "      <th>유동자산증가율</th>\n",
              "      <th>재고자산증가율</th>\n",
              "      <th>자기자본증가율</th>\n",
              "      <th>순이익증가율</th>\n",
              "      <th>...</th>\n",
              "      <th>/ 재무CF/총차입금 비율</th>\n",
              "      <th>/ 현금흐름통합_긍정여부</th>\n",
              "      <th>/ 투하자본수익률</th>\n",
              "      <th>EBIT / 자산</th>\n",
              "      <th>EBIT / 매출액</th>\n",
              "      <th>EBIT / 영업현금흐름(천원)</th>\n",
              "      <th>업력_범주11</th>\n",
              "      <th>업력_범주12</th>\n",
              "      <th>업력_범주15</th>\n",
              "      <th>생애주기</th>\n",
              "    </tr>\n",
              "  </thead>\n",
              "  <tbody>\n",
              "    <tr>\n",
              "      <th>0</th>\n",
              "      <td>(유)가든주류</td>\n",
              "      <td>97082</td>\n",
              "      <td>2019</td>\n",
              "      <td>0.00</td>\n",
              "      <td>0.00</td>\n",
              "      <td>0.00</td>\n",
              "      <td>0.00</td>\n",
              "      <td>0.00</td>\n",
              "      <td>0.00</td>\n",
              "      <td>0.00</td>\n",
              "      <td>...</td>\n",
              "      <td>0.093048</td>\n",
              "      <td>1</td>\n",
              "      <td>5.990455</td>\n",
              "      <td>0.078677</td>\n",
              "      <td>0.051786</td>\n",
              "      <td>18.886403</td>\n",
              "      <td>1</td>\n",
              "      <td>1</td>\n",
              "      <td>1</td>\n",
              "      <td>성장기</td>\n",
              "    </tr>\n",
              "    <tr>\n",
              "      <th>1</th>\n",
              "      <td>(유)가든주류</td>\n",
              "      <td>97082</td>\n",
              "      <td>2020</td>\n",
              "      <td>-0.92</td>\n",
              "      <td>11.15</td>\n",
              "      <td>17.83</td>\n",
              "      <td>-10.63</td>\n",
              "      <td>-29.66</td>\n",
              "      <td>-40.28</td>\n",
              "      <td>-70.11</td>\n",
              "      <td>...</td>\n",
              "      <td>0.034579</td>\n",
              "      <td>0</td>\n",
              "      <td>1.868142</td>\n",
              "      <td>0.032636</td>\n",
              "      <td>0.024388</td>\n",
              "      <td>-3.145047</td>\n",
              "      <td>1</td>\n",
              "      <td>1</td>\n",
              "      <td>1</td>\n",
              "      <td>도입기</td>\n",
              "    </tr>\n",
              "    <tr>\n",
              "      <th>2</th>\n",
              "      <td>(유)가든주류</td>\n",
              "      <td>97082</td>\n",
              "      <td>2021</td>\n",
              "      <td>-10.44</td>\n",
              "      <td>-54.68</td>\n",
              "      <td>-33.54</td>\n",
              "      <td>5.33</td>\n",
              "      <td>-40.32</td>\n",
              "      <td>8.31</td>\n",
              "      <td>45.89</td>\n",
              "      <td>...</td>\n",
              "      <td>-0.196926</td>\n",
              "      <td>0</td>\n",
              "      <td>0.462901</td>\n",
              "      <td>0.046543</td>\n",
              "      <td>0.036091</td>\n",
              "      <td>10.508698</td>\n",
              "      <td>1</td>\n",
              "      <td>1</td>\n",
              "      <td>1</td>\n",
              "      <td>기타</td>\n",
              "    </tr>\n",
              "    <tr>\n",
              "      <th>3</th>\n",
              "      <td>(유)가든주류</td>\n",
              "      <td>97082</td>\n",
              "      <td>2022</td>\n",
              "      <td>-66.57</td>\n",
              "      <td>-10.70</td>\n",
              "      <td>-49.37</td>\n",
              "      <td>-73.98</td>\n",
              "      <td>-8.32</td>\n",
              "      <td>0.00</td>\n",
              "      <td>0.00</td>\n",
              "      <td>...</td>\n",
              "      <td>0.375515</td>\n",
              "      <td>1</td>\n",
              "      <td>-27.880289</td>\n",
              "      <td>-0.266720</td>\n",
              "      <td>-0.080142</td>\n",
              "      <td>0.099535</td>\n",
              "      <td>1</td>\n",
              "      <td>1</td>\n",
              "      <td>1</td>\n",
              "      <td>쇠퇴기</td>\n",
              "    </tr>\n",
              "    <tr>\n",
              "      <th>4</th>\n",
              "      <td>(유)그룹세브코리아</td>\n",
              "      <td>13171</td>\n",
              "      <td>2019</td>\n",
              "      <td>0.00</td>\n",
              "      <td>0.00</td>\n",
              "      <td>0.00</td>\n",
              "      <td>0.00</td>\n",
              "      <td>0.00</td>\n",
              "      <td>0.00</td>\n",
              "      <td>0.00</td>\n",
              "      <td>...</td>\n",
              "      <td>-0.481217</td>\n",
              "      <td>0</td>\n",
              "      <td>23.705408</td>\n",
              "      <td>0.239545</td>\n",
              "      <td>0.065874</td>\n",
              "      <td>0.853058</td>\n",
              "      <td>1</td>\n",
              "      <td>1</td>\n",
              "      <td>1</td>\n",
              "      <td>성숙기</td>\n",
              "    </tr>\n",
              "  </tbody>\n",
              "</table>\n",
              "<p>5 rows × 248 columns</p>\n",
              "</div>"
            ],
            "text/plain": [
              "          회사명  거래소코드  회계년도  총자본증가율  유형자산증가율  비유동자산증가율  유동자산증가율  재고자산증가율  \\\n",
              "0     (유)가든주류  97082  2019    0.00     0.00      0.00     0.00     0.00   \n",
              "1     (유)가든주류  97082  2020   -0.92    11.15     17.83   -10.63   -29.66   \n",
              "2     (유)가든주류  97082  2021  -10.44   -54.68    -33.54     5.33   -40.32   \n",
              "3     (유)가든주류  97082  2022  -66.57   -10.70    -49.37   -73.98    -8.32   \n",
              "4  (유)그룹세브코리아  13171  2019    0.00     0.00      0.00     0.00     0.00   \n",
              "\n",
              "   자기자본증가율  순이익증가율  ...  / 재무CF/총차입금 비율  / 현금흐름통합_긍정여부  / 투하자본수익률  EBIT / 자산  \\\n",
              "0     0.00    0.00  ...        0.093048              1   5.990455   0.078677   \n",
              "1   -40.28  -70.11  ...        0.034579              0   1.868142   0.032636   \n",
              "2     8.31   45.89  ...       -0.196926              0   0.462901   0.046543   \n",
              "3     0.00    0.00  ...        0.375515              1 -27.880289  -0.266720   \n",
              "4     0.00    0.00  ...       -0.481217              0  23.705408   0.239545   \n",
              "\n",
              "   EBIT / 매출액  EBIT / 영업현금흐름(천원)  업력_범주11  업력_범주12  업력_범주15  생애주기  \n",
              "0    0.051786          18.886403        1        1        1   성장기  \n",
              "1    0.024388          -3.145047        1        1        1   도입기  \n",
              "2    0.036091          10.508698        1        1        1    기타  \n",
              "3   -0.080142           0.099535        1        1        1   쇠퇴기  \n",
              "4    0.065874           0.853058        1        1        1   성숙기  \n",
              "\n",
              "[5 rows x 248 columns]"
            ]
          },
          "execution_count": 3,
          "metadata": {},
          "output_type": "execute_result"
        }
      ],
      "source": [
        "import pandas as pd\n",
        "df = pd.read_csv('data/국면나누기전.csv')\n",
        "df.head()"
      ]
    },
    {
      "cell_type": "code",
      "execution_count": null,
      "id": "7232c81d",
      "metadata": {
        "id": "7232c81d"
      },
      "outputs": [],
      "source": [
        "import pandas as pd\n",
        "def year_check(x: pd.Series) -> int:\n",
        "    return int(len(x) != (x.max() - x.min() + 1))\n",
        "\n",
        "df['회계년도연속여부'] = df.groupby(['회사명', '거래소코드'])['회계년도'].transform(\n",
        "    lambda x: year_check(x)\n",
        ")"
      ]
    },
    {
      "cell_type": "code",
      "execution_count": null,
      "id": "1f6d7833",
      "metadata": {
        "id": "1f6d7833",
        "outputId": "9c0088d2-2271-4254-a543-f7fe8d4ce967"
      },
      "outputs": [
        {
          "data": {
            "text/plain": [
              "회계년도연속여부\n",
              "0    205141\n",
              "1     24799\n",
              "Name: count, dtype: int64"
            ]
          },
          "execution_count": 12,
          "metadata": {},
          "output_type": "execute_result"
        }
      ],
      "source": [
        "df['회계년도연속여부'].value_counts()"
      ]
    },
    {
      "cell_type": "code",
      "execution_count": null,
      "id": "f85faf96",
      "metadata": {
        "id": "f85faf96",
        "outputId": "554ff49d-f932-4525-b5a9-db5242ae26b7"
      },
      "outputs": [
        {
          "data": {
            "text/html": [
              "<div>\n",
              "<style scoped>\n",
              "    .dataframe tbody tr th:only-of-type {\n",
              "        vertical-align: middle;\n",
              "    }\n",
              "\n",
              "    .dataframe tbody tr th {\n",
              "        vertical-align: top;\n",
              "    }\n",
              "\n",
              "    .dataframe thead th {\n",
              "        text-align: right;\n",
              "    }\n",
              "</style>\n",
              "<table border=\"1\" class=\"dataframe\">\n",
              "  <thead>\n",
              "    <tr style=\"text-align: right;\">\n",
              "      <th></th>\n",
              "      <th>회사명</th>\n",
              "      <th>회계년도</th>\n",
              "      <th>회계년도연속여부</th>\n",
              "    </tr>\n",
              "  </thead>\n",
              "  <tbody>\n",
              "    <tr>\n",
              "      <th>0</th>\n",
              "      <td>(유)가든주류</td>\n",
              "      <td>2019</td>\n",
              "      <td>0</td>\n",
              "    </tr>\n",
              "    <tr>\n",
              "      <th>1</th>\n",
              "      <td>(유)가든주류</td>\n",
              "      <td>2020</td>\n",
              "      <td>0</td>\n",
              "    </tr>\n",
              "    <tr>\n",
              "      <th>2</th>\n",
              "      <td>(유)가든주류</td>\n",
              "      <td>2021</td>\n",
              "      <td>0</td>\n",
              "    </tr>\n",
              "    <tr>\n",
              "      <th>3</th>\n",
              "      <td>(유)가든주류</td>\n",
              "      <td>2022</td>\n",
              "      <td>0</td>\n",
              "    </tr>\n",
              "    <tr>\n",
              "      <th>4</th>\n",
              "      <td>(유)그룹세브코리아</td>\n",
              "      <td>2019</td>\n",
              "      <td>0</td>\n",
              "    </tr>\n",
              "    <tr>\n",
              "      <th>...</th>\n",
              "      <td>...</td>\n",
              "      <td>...</td>\n",
              "      <td>...</td>\n",
              "    </tr>\n",
              "    <tr>\n",
              "      <th>229935</th>\n",
              "      <td>힐티코리아주식회사</td>\n",
              "      <td>2019</td>\n",
              "      <td>0</td>\n",
              "    </tr>\n",
              "    <tr>\n",
              "      <th>229936</th>\n",
              "      <td>힐티코리아주식회사</td>\n",
              "      <td>2020</td>\n",
              "      <td>0</td>\n",
              "    </tr>\n",
              "    <tr>\n",
              "      <th>229937</th>\n",
              "      <td>힐티코리아주식회사</td>\n",
              "      <td>2021</td>\n",
              "      <td>0</td>\n",
              "    </tr>\n",
              "    <tr>\n",
              "      <th>229938</th>\n",
              "      <td>힐티코리아주식회사</td>\n",
              "      <td>2022</td>\n",
              "      <td>0</td>\n",
              "    </tr>\n",
              "    <tr>\n",
              "      <th>229939</th>\n",
              "      <td>힐티코리아주식회사</td>\n",
              "      <td>2023</td>\n",
              "      <td>0</td>\n",
              "    </tr>\n",
              "  </tbody>\n",
              "</table>\n",
              "<p>229940 rows × 3 columns</p>\n",
              "</div>"
            ],
            "text/plain": [
              "               회사명  회계년도  회계년도연속여부\n",
              "0          (유)가든주류  2019         0\n",
              "1          (유)가든주류  2020         0\n",
              "2          (유)가든주류  2021         0\n",
              "3          (유)가든주류  2022         0\n",
              "4       (유)그룹세브코리아  2019         0\n",
              "...            ...   ...       ...\n",
              "229935   힐티코리아주식회사  2019         0\n",
              "229936   힐티코리아주식회사  2020         0\n",
              "229937   힐티코리아주식회사  2021         0\n",
              "229938   힐티코리아주식회사  2022         0\n",
              "229939   힐티코리아주식회사  2023         0\n",
              "\n",
              "[229940 rows x 3 columns]"
            ]
          },
          "execution_count": 13,
          "metadata": {},
          "output_type": "execute_result"
        }
      ],
      "source": [
        "df[['회사명','회계년도','회계년도연속여부']]"
      ]
    },
    {
      "cell_type": "markdown",
      "id": "9906a59f",
      "metadata": {
        "id": "9906a59f"
      },
      "source": [
        "### 데이터 분할"
      ]
    },
    {
      "cell_type": "code",
      "execution_count": null,
      "id": "96fd44f0",
      "metadata": {
        "id": "96fd44f0",
        "outputId": "6a166e4d-9b73-49c9-b4e3-a27f17f3fe32"
      },
      "outputs": [
        {
          "name": "stdout",
          "output_type": "stream",
          "text": [
            "생애주기\n",
            "도입기    42314\n",
            "성장기    53975\n",
            "성숙기    68220\n",
            "쇠퇴기    23977\n",
            "기타     41454\n",
            "Name: count, dtype: int64\n",
            "\n",
            "총 기업 수: 229940\n"
          ]
        }
      ],
      "source": [
        "### 국면으로 나누기\n",
        "op_col = '영업현금흐름(천원)'\n",
        "inv_col = '투자활동으로 인한 현금흐름(*)(천원)'\n",
        "fin_col = '재무활동으로 인한 현금흐름(*)(천원)'\n",
        "\n",
        "# 국면 분류 함수 정의\n",
        "def classify_dickinson(row):\n",
        "    op = row[op_col]\n",
        "    inv = row[inv_col]\n",
        "    fin = row[fin_col]\n",
        "\n",
        "    if op < 0 and inv < 0 and fin > 0:\n",
        "        return '도입기'\n",
        "    elif op > 0 and inv < 0 and fin > 0:\n",
        "        return '성장기'\n",
        "    elif op > 0 and inv < 0 and fin < 0:\n",
        "        return '성숙기'\n",
        "    elif op < 0 and inv > 0:\n",
        "        return '쇠퇴기'\n",
        "    else:\n",
        "        return '기타'\n",
        "\n",
        "# 데이터프레임에 생애주기 컬럼 추가\n",
        "eda['생애주기'] = eda.apply(classify_dickinson, axis=1)\n",
        "\n",
        "# 원하는 순서 정의\n",
        "stage_order = ['도입기', '성장기', '성숙기', '쇠퇴기', '기타']\n",
        "\n",
        "# value_counts 후 원하는 순서로 정렬\n",
        "counts = eda['생애주기'].value_counts().loc[stage_order]\n",
        "\n",
        "# 출력\n",
        "print(counts)\n",
        "print(\"\\n총 기업 수:\", counts.sum())\n",
        "\n",
        "filtered_lifecycle = eda[eda['생애주기'] != '기타'].copy()\n",
        "\n",
        "df_도입 = filtered_lifecycle[filtered_lifecycle['생애주기']=='도입기'].drop('생애주기',axis=1)\n",
        "df_성장 = filtered_lifecycle[filtered_lifecycle['생애주기']=='성장기'].drop('생애주기',axis=1)\n",
        "df_성숙 = filtered_lifecycle[filtered_lifecycle['생애주기']=='성숙기'].drop('생애주기',axis=1)\n",
        "df_쇠퇴 = filtered_lifecycle[filtered_lifecycle['생애주기']=='쇠퇴기'].drop('생애주기',axis=1)"
      ]
    },
    {
      "cell_type": "code",
      "execution_count": null,
      "id": "1372f659",
      "metadata": {
        "id": "1372f659"
      },
      "outputs": [],
      "source": [
        "df_도입.to_csv('data/eda/eda도입.csv',index=False)\n",
        "df_성장.to_csv('data/eda/eda성장.csv',index=False)\n",
        "df_성숙.to_csv('data/eda/eda성숙.csv',index=False)\n",
        "df_쇠퇴.to_csv('data/eda/eda쇠퇴.csv',index=False)"
      ]
    },
    {
      "cell_type": "code",
      "execution_count": null,
      "id": "394cfd96",
      "metadata": {
        "id": "394cfd96",
        "outputId": "9a6c70e3-156f-4d47-9d3e-a5a6cfe78f79"
      },
      "outputs": [
        {
          "data": {
            "text/plain": [
              "1         0\n",
              "9         0\n",
              "12        0\n",
              "13        0\n",
              "15        0\n",
              "         ..\n",
              "229927    0\n",
              "229928    0\n",
              "229930    0\n",
              "229932    0\n",
              "229933    0\n",
              "Name: 상장폐지일, Length: 42314, dtype: object"
            ]
          },
          "execution_count": 18,
          "metadata": {},
          "output_type": "execute_result"
        }
      ],
      "source": [
        "df_도입['상장폐지일']"
      ]
    },
    {
      "cell_type": "code",
      "execution_count": null,
      "id": "6a1eead0",
      "metadata": {
        "id": "6a1eead0"
      },
      "outputs": [],
      "source": [
        "df_list = [df_도입,df_성장,df_성숙,df_쇠퇴]\n",
        "\n",
        "for df in df_list:\n",
        "    for col in object_cols:\n",
        "        df[col] = df[col].astype('object')"
      ]
    },
    {
      "cell_type": "code",
      "execution_count": null,
      "id": "2a0cecb2",
      "metadata": {
        "id": "2a0cecb2"
      },
      "outputs": [],
      "source": [
        "df_도입.to_csv('도입기.csv',index=False)\n",
        "df_성장.to_csv('성장기.csv',index=False)\n",
        "df_성숙.to_csv('성숙기.csv',index=False)\n",
        "df_쇠퇴.to_csv('쇠퇴기.csv',index=False)"
      ]
    }
  ],
  "metadata": {
    "kernelspec": {
      "display_name": "Python 3",
      "language": "python",
      "name": "python3"
    },
    "language_info": {
      "codemirror_mode": {
        "name": "ipython",
        "version": 3
      },
      "file_extension": ".py",
      "mimetype": "text/x-python",
      "name": "python",
      "nbconvert_exporter": "python",
      "pygments_lexer": "ipython3",
      "version": "3.11.0"
    },
    "colab": {
      "provenance": [],
      "include_colab_link": true
    }
  },
  "nbformat": 4,
  "nbformat_minor": 5
}