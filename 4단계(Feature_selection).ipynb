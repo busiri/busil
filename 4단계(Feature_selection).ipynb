{
  "cells": [
    {
      "cell_type": "markdown",
      "metadata": {
        "id": "view-in-github",
        "colab_type": "text"
      },
      "source": [
        "<a href=\"https://colab.research.google.com/github/busiri/busil/blob/main/4%EB%8B%A8%EA%B3%84(Feature_selection).ipynb\" target=\"_parent\"><img src=\"https://colab.research.google.com/assets/colab-badge.svg\" alt=\"Open In Colab\"/></a>"
      ]
    },
    {
      "cell_type": "code",
      "execution_count": 90,
      "id": "698243ab",
      "metadata": {
        "id": "698243ab"
      },
      "outputs": [],
      "source": [
        "import warnings, sys, os\n",
        "import pandas as pd\n",
        "import matplotlib.pyplot as plt\n",
        "from sklearn.preprocessing import StandardScaler\n",
        "from sklearn.model_selection import train_test_split\n",
        "from lightgbm import LGBMClassifier\n",
        "import warnings\n",
        "warnings.filterwarnings('ignore')\n",
        "\n",
        "pd.set_option(\"display.max_columns\", None)   # 열 생략 없이 전부 출력\n",
        "pd.set_option(\"display.expand_frame_repr\", False)  # 줄 넘김 없이 한 줄에 출력\n",
        "\n",
        "warnings.filterwarnings(\"ignore\")\n",
        "\n",
        "plt.rcParams[\"font.family\"]      = \"Malgun Gothic\"   # Windows 기본 한글 글꼴\n",
        "plt.rcParams[\"axes.unicode_minus\"] = False           # - 부호 깨짐 방지"
      ]
    },
    {
      "cell_type": "code",
      "execution_count": 91,
      "id": "f837195a",
      "metadata": {
        "id": "f837195a"
      },
      "outputs": [],
      "source": [
        "phase_files = {\n",
        "    '도입기_train.csv' : '도입',\n",
        "    '성장기_train.csv' : '성장',\n",
        "    '성숙기_train.csv': '성숙',\n",
        "    '쇠퇴기_train.csv': '쇠퇴'\n",
        "}\n",
        "\n",
        "# 파일 보내기\n",
        "for file, phase in phase_files.items():\n",
        "  globals()[f\"df_{phase}\"]=pd.read_csv(file)"
      ]
    },
    {
      "cell_type": "markdown",
      "source": [
        "### 수치형 - RFE, t-test, VIF를 활용하여 선정"
      ],
      "metadata": {
        "id": "xgH5gYh6fsbX"
      },
      "id": "xgH5gYh6fsbX"
    },
    {
      "cell_type": "code",
      "source": [
        "obj_cols = [x for x in df_도입.columns if len(df_도입[x].unique())<20 and x != '부실여부']\n",
        "obj_cols = [x for x in df_도입.columns if len(df_도입[x].unique())<20 and x != '부실여부']\n",
        "df_도입[obj_cols] = df_도입[obj_cols].astype('object')\n",
        "df_도입_obj = df_도입.select_dtypes(include='object')\n",
        "df_도입_num = df_도입.select_dtypes(exclude='object')\n",
        "\n",
        "df_성장[obj_cols] = df_성장[obj_cols].astype('object')\n",
        "df_성장_obj = df_성장.select_dtypes(include='object')\n",
        "df_성장_num = df_성장.select_dtypes(exclude='object')\n",
        "\n",
        "df_성숙[obj_cols] = df_성숙[obj_cols].astype('object')\n",
        "df_성숙_obj = df_성숙.select_dtypes(include='object')\n",
        "df_성숙_num = df_성숙.select_dtypes(exclude='object')\n",
        "\n",
        "df_쇠퇴[obj_cols] = df_쇠퇴[obj_cols].astype('object')\n",
        "df_쇠퇴_obj = df_쇠퇴.select_dtypes(include='object')\n",
        "df_쇠퇴_num = df_쇠퇴.select_dtypes(exclude='object')"
      ],
      "metadata": {
        "id": "cs7zq5xz98sc"
      },
      "id": "cs7zq5xz98sc",
      "execution_count": 92,
      "outputs": []
    },
    {
      "cell_type": "markdown",
      "source": [
        "### Balanced RF를 활용하여 Feaute importance 상위 200개 피처 선정"
      ],
      "metadata": {
        "id": "UhsG2F7LtWVr"
      },
      "id": "UhsG2F7LtWVr"
    },
    {
      "cell_type": "markdown",
      "source": [
        "### 도입기(나머지 세개의 국면에도 진행했음)"
      ],
      "metadata": {
        "id": "KTuLbeYH5cBU"
      },
      "id": "KTuLbeYH5cBU"
    },
    {
      "cell_type": "code",
      "source": [
        "from imblearn.ensemble import BalancedRandomForestClassifier\n",
        "def RFE(df:pd.DataFrame,top_k = 150):\n",
        "  # 0) 데이터 X,y 분리 후 train, valid 분리\n",
        "  X = df.drop('부실여부',axis=1)\n",
        "  y = df['부실여부']\n",
        "\n",
        "  X_train,X_valid,y_train,y_valid = train_test_split(X,y,test_size=0.2,random_state=42,stratify=y)\n",
        "\n",
        "  # 1) 스케일링\n",
        "  scaler = StandardScaler()\n",
        "  X_scaled       = scaler.fit_transform(X_train)\n",
        "  X_valid_scaled  = scaler.transform(X_valid)\n",
        "\n",
        "  # 2) LightGBM 모델 학습\n",
        "  clf = BalancedRandomForestClassifier(\n",
        "    n_estimators=200,\n",
        "    random_state=42\n",
        "  )\n",
        "  clf.fit(X_scaled, y_train)\n",
        "\n",
        "  # 3) feature_importances_ 를 Series로 추출·정렬\n",
        "  feat_imp = pd.Series(\n",
        "    clf.feature_importances_,\n",
        "    index=X_train.columns).sort_values(ascending=False)\n",
        "\n",
        "\n",
        "  # 4) 상위 피처 선택\n",
        "  topK = feat_imp.head(top_k).index.tolist()\n",
        "  X_train = X_train[topK]\n",
        "  X_valid  = X_valid[topK]\n",
        "  print(f\"Top {top_k} features:\\n\", feat_imp.head(top_k))\n",
        "  return X_train,X_valid,y_train,y_valid"
      ],
      "metadata": {
        "id": "8yekH0tq6Eh8"
      },
      "id": "8yekH0tq6Eh8",
      "execution_count": 97,
      "outputs": []
    },
    {
      "cell_type": "code",
      "source": [
        "stages = {'도입':df_도입_num,\n",
        "          '성장':df_성장_num,\n",
        "          '성숙':df_성숙_num,\n",
        "          '쇠퇴':df_쇠퇴_num}\n",
        "\n",
        "for stage,df in stages.items():\n",
        "  globals()[f\"{stage}_X_train\"],globals()[f\"{stage}_X_valid\"],globals()[f\"{stage}_y_train\"],globals()[f\"{stage}_y_valid\"] = RFE(df)"
      ],
      "metadata": {
        "id": "vPlTTQqns-j_",
        "outputId": "370df193-6341-4b9a-ff68-85ef8727a2e7",
        "colab": {
          "base_uri": "https://localhost:8080/"
        }
      },
      "id": "vPlTTQqns-j_",
      "execution_count": 98,
      "outputs": [
        {
          "output_type": "stream",
          "name": "stdout",
          "text": [
            "Top 150 features:\n",
            " 경영자본영업이익률         0.041440\n",
            "/ 이익잉여금/총자산 비율    0.037133\n",
            "총자본영업이익률          0.033449\n",
            "/ 투하자본수익률         0.032626\n",
            "자기자본영업이익률         0.029163\n",
            "                    ...   \n",
            "부가가치율             0.003484\n",
            "재고자산회전률           0.003396\n",
            "노동소득분배율           0.003211\n",
            "매출채권비율            0.003140\n",
            "자본분배율             0.002551\n",
            "Length: 117, dtype: float64\n",
            "Top 150 features:\n",
            " 경영자본영업이익률        0.083722\n",
            "총자본영업이익률         0.069442\n",
            "/ 투하자본수익률        0.055510\n",
            "총자본사업이익률         0.048667\n",
            "자기자본영업이익률        0.041681\n",
            "                   ...   \n",
            "재고자산(천원)         0.001886\n",
            "재고자산회전률          0.001858\n",
            "매출채권 대 상,제품비율    0.001849\n",
            "재고자산회전기간         0.001727\n",
            "1회전기간            0.001421\n",
            "Length: 127, dtype: float64\n",
            "Top 150 features:\n",
            " 경영자본영업이익률    0.075334\n",
            "총자본영업이익률     0.074375\n",
            "/ 투하자본수익률    0.070901\n",
            "총자본순이익률      0.051831\n",
            "총자본사업이익률     0.042715\n",
            "               ...   \n",
            "재고자산회전률      0.001685\n",
            "감가상각률        0.001674\n",
            "유동자산회전률      0.001672\n",
            "상품,제품회전률     0.001602\n",
            "1회전기간        0.000885\n",
            "Length: 126, dtype: float64\n",
            "Top 150 features:\n",
            " 총자본영업이익률      0.038447\n",
            "경영자본영업이익률     0.037176\n",
            "자기자본영업이익률     0.032845\n",
            "/ 투하자본수익률     0.032843\n",
            "영업이익률(매출액)    0.028272\n",
            "                ...   \n",
            "자본분배율         0.004144\n",
            "재고자산회전률       0.004092\n",
            "매출채권비율        0.003895\n",
            "매입채무회전률       0.003864\n",
            "노동소득분배율       0.003357\n",
            "Length: 117, dtype: float64\n"
          ]
        }
      ]
    },
    {
      "cell_type": "markdown",
      "source": [
        "### t-test를 활용하여 정상집단과 부실집단 간 평균 차이를 보이는 컬럼 선정(유의수준 : 0.05)"
      ],
      "metadata": {
        "id": "s4z53qAptfSO"
      },
      "id": "s4z53qAptfSO"
    },
    {
      "cell_type": "code",
      "source": [
        "# t-test\n",
        "import pandas as pd\n",
        "from scipy.stats import ttest_ind\n",
        "from scipy.stats import levene\n",
        "\n",
        "def ttest_with_levene(df, alpha=0.05):\n",
        "    results = []\n",
        "    numeric_cols = df.drop('부실여부',axis=1)\n",
        "\n",
        "    group1 = df[df['부실여부'] == 0]\n",
        "    group2 = df[df['부실여부'] == 1]\n",
        "\n",
        "    for col in numeric_cols:\n",
        "        data1 = group1[col].dropna()\n",
        "        data2 = group2[col].dropna()\n",
        "\n",
        "        if len(data1) > 1 and len(data2) > 1:\n",
        "            # 등분산 검정 (Levene’s test)\n",
        "            levene_stat, levene_p = levene(data1, data2)\n",
        "            equal_var = True if levene_p >= alpha else False\n",
        "\n",
        "            # t-test\n",
        "            t_stat, pval = ttest_ind(data1, data2, equal_var=equal_var)\n",
        "\n",
        "            results.append({\n",
        "                '컬럼': col,\n",
        "                '등분산성 p값': levene_p,\n",
        "                '등분산성 통과 여부': '통과' if equal_var else '불통과',\n",
        "                't통계량': t_stat,\n",
        "                't검정 p값': pval,\n",
        "                'n1': len(data1),\n",
        "                'n2': len(data2)\n",
        "            })\n",
        "        else:\n",
        "            results.append({\n",
        "                '컬럼': col,\n",
        "                '등분산성 p값': None,\n",
        "                '등분산성 통과 여부': '데이터 부족',\n",
        "                't통계량': None,\n",
        "                't검정 p값': None,\n",
        "                'n1': len(data1),\n",
        "                'n2': len(data2)\n",
        "            })\n",
        "\n",
        "    result_df = pd.DataFrame(results)\n",
        "    result_top = result_df.dropna(subset=['t검정 p값']).sort_values(by='t검정 p값')\n",
        "    col_list = result_top.loc[result_top['t검정 p값']<0.05]['컬럼'].tolist()\n",
        "    col_list.append('부실여부')\n",
        "    return df[col_list]\n",
        "\n",
        "도입_RFE = pd.concat([도입_X_train,도입_y_train],axis=1)\n",
        "성장_RFE = pd.concat([성장_X_train,성장_y_train],axis=1)\n",
        "성숙_RFE = pd.concat([성숙_X_train,성숙_y_train],axis=1)\n",
        "쇠퇴_RFE = pd.concat([쇠퇴_X_train,쇠퇴_y_train],axis=1)\n",
        "\n",
        "\n",
        "# 처음 데이터프레임에서 적용하는 방법도 있고 RFE 진행 후 ttest 진행도 했음\n",
        "phases = {'도입' : 도입_RFE,\n",
        "          '성장' : 성장_RFE,\n",
        "          '성숙' : 성숙_RFE,\n",
        "          '쇠퇴' : 쇠퇴_RFE }\n",
        "\n",
        "for phase, df in phases.items():\n",
        "  globals()[f\"ttest_{phase}\"] = ttest_with_levene(df)"
      ],
      "metadata": {
        "id": "7X2p2R64s8Oh"
      },
      "id": "7X2p2R64s8Oh",
      "execution_count": 99,
      "outputs": []
    },
    {
      "cell_type": "code",
      "source": [
        "ttest_도입= ttest_도입.dropna(axis=0,how='any')\n",
        "ttest_성장= ttest_성장.dropna(axis=0,how='any')\n",
        "ttest_성숙= ttest_성숙.dropna(axis=0,how='any')\n",
        "ttest_쇠퇴= ttest_쇠퇴.dropna(axis=0,how='any')"
      ],
      "metadata": {
        "id": "PGjF3845Sfgr"
      },
      "id": "PGjF3845Sfgr",
      "execution_count": 100,
      "outputs": []
    },
    {
      "cell_type": "markdown",
      "source": [
        "### 다중공선성 제거를 위해 모든 컬럼이 VIF 10 미만이 될때까지 가장 높은 VIF를 갖는 컬럼 제거"
      ],
      "metadata": {
        "id": "mobkXuS4tnBu"
      },
      "id": "mobkXuS4tnBu"
    },
    {
      "cell_type": "code",
      "execution_count": 101,
      "id": "0193927c",
      "metadata": {
        "collapsed": true,
        "id": "0193927c"
      },
      "outputs": [],
      "source": [
        "from statsmodels.stats.outliers_influence import variance_inflation_factor\n",
        "import pandas as pd\n",
        "import warnings\n",
        "\n",
        "def calculate_vif(df, target_col):\n",
        "    X = df.drop(columns=[target_col], errors='ignore')\n",
        "    # 수치형 컬럼만, 결측치 컬럼은 제외\n",
        "    X = X.select_dtypes(include=[\"number\"]).dropna(axis=1, how='all')\n",
        "    vif_data = pd.DataFrame()\n",
        "    vif_data[\"feature\"] = X.columns\n",
        "    with warnings.catch_warnings():\n",
        "        warnings.simplefilter(\"ignore\", category=RuntimeWarning)\n",
        "        vif_data[\"VIF\"] = [\n",
        "            variance_inflation_factor(X.values, i)\n",
        "            for i in range(X.shape[1])\n",
        "        ]\n",
        "    return vif_data\n",
        "\n",
        "def vif_removal_for_phase(df, target_col='부실여부', threshold=10, label=\"국면\"):\n",
        "\n",
        "    df_vif = df.copy()\n",
        "\n",
        "    # VIF 반복 제거\n",
        "    step = 0\n",
        "    while True:\n",
        "        vif_df = calculate_vif(df_vif, target_col)\n",
        "        max_vif = vif_df[\"VIF\"].max()\n",
        "        max_vif_feature = vif_df.sort_values(\n",
        "            by=\"VIF\", ascending=False\n",
        "        ).iloc[0][\"feature\"]\n",
        "        print(f\"[{label}] Step {step}: 최대 VIF = {max_vif:.3f} ({max_vif_feature})\")\n",
        "        if max_vif <= threshold:\n",
        "            print(f\"[{label}] 모든 VIF가 {threshold} 이하입니다. 반복 종료.\")\n",
        "            break\n",
        "        print(\n",
        "            f\"[{label}] '{max_vif_feature}' 컬럼(VIF={max_vif:.3f})을 제거합니다.\"\n",
        "        )\n",
        "        df_vif = df_vif.drop(columns=[max_vif_feature])\n",
        "        step += 1\n",
        "\n",
        "    df_final = df_vif.loc[:, ~df_final.columns.duplicated()]\n",
        "\n",
        "    # 6) 결과 저장\n",
        "    save_name = f'{label}_VIF.csv'\n",
        "    df_final.to_csv(save_name, index=False)\n",
        "    print(f\"[{label}] 최종 파일 저장 완료: {save_name}\")\n",
        "\n",
        "    return df_final, vif_df"
      ]
    },
    {
      "cell_type": "code",
      "source": [
        "phases = {'도입' : ttest_도입,\n",
        "          '성장' : ttest_성장,\n",
        "          '성숙' : ttest_성숙,\n",
        "          '쇠퇴' : ttest_쇠퇴}\n",
        "\n",
        "for phase, df in phases.items():\n",
        "  globals()[f\"VIF_{phase}\"] = vif_removal_for_phase(df)"
      ],
      "metadata": {
        "collapsed": true,
        "id": "1ajQVZIPLEcI",
        "outputId": "382c49a2-5d21-4f58-ab40-3852a460af84",
        "colab": {
          "base_uri": "https://localhost:8080/",
          "height": 337
        }
      },
      "id": "1ajQVZIPLEcI",
      "execution_count": 105,
      "outputs": [
        {
          "output_type": "error",
          "ename": "KeyboardInterrupt",
          "evalue": "",
          "traceback": [
            "\u001b[0;31m---------------------------------------------------------------------------\u001b[0m",
            "\u001b[0;31mKeyboardInterrupt\u001b[0m                         Traceback (most recent call last)",
            "\u001b[0;32m/tmp/ipython-input-105-2558866098.py\u001b[0m in \u001b[0;36m<cell line: 0>\u001b[0;34m()\u001b[0m\n\u001b[1;32m      5\u001b[0m \u001b[0;34m\u001b[0m\u001b[0m\n\u001b[1;32m      6\u001b[0m \u001b[0;32mfor\u001b[0m \u001b[0mphase\u001b[0m\u001b[0;34m,\u001b[0m \u001b[0mdf\u001b[0m \u001b[0;32min\u001b[0m \u001b[0mphases\u001b[0m\u001b[0;34m.\u001b[0m\u001b[0mitems\u001b[0m\u001b[0;34m(\u001b[0m\u001b[0;34m)\u001b[0m\u001b[0;34m:\u001b[0m\u001b[0;34m\u001b[0m\u001b[0;34m\u001b[0m\u001b[0m\n\u001b[0;32m----> 7\u001b[0;31m   \u001b[0mglobals\u001b[0m\u001b[0;34m(\u001b[0m\u001b[0;34m)\u001b[0m\u001b[0;34m[\u001b[0m\u001b[0;34mf\"VIF_{phase}\"\u001b[0m\u001b[0;34m]\u001b[0m \u001b[0;34m=\u001b[0m \u001b[0mvif_removal_for_phase\u001b[0m\u001b[0;34m(\u001b[0m\u001b[0mdf\u001b[0m\u001b[0;34m)\u001b[0m\u001b[0;34m\u001b[0m\u001b[0;34m\u001b[0m\u001b[0m\n\u001b[0m",
            "\u001b[0;32m/tmp/ipython-input-101-1939249439.py\u001b[0m in \u001b[0;36mvif_removal_for_phase\u001b[0;34m(df, target_col, threshold, label)\u001b[0m\n\u001b[1;32m     24\u001b[0m     \u001b[0mstep\u001b[0m \u001b[0;34m=\u001b[0m \u001b[0;36m0\u001b[0m\u001b[0;34m\u001b[0m\u001b[0;34m\u001b[0m\u001b[0m\n\u001b[1;32m     25\u001b[0m     \u001b[0;32mwhile\u001b[0m \u001b[0;32mTrue\u001b[0m\u001b[0;34m:\u001b[0m\u001b[0;34m\u001b[0m\u001b[0;34m\u001b[0m\u001b[0m\n\u001b[0;32m---> 26\u001b[0;31m         \u001b[0mvif_df\u001b[0m \u001b[0;34m=\u001b[0m \u001b[0mcalculate_vif\u001b[0m\u001b[0;34m(\u001b[0m\u001b[0mdf_vif\u001b[0m\u001b[0;34m,\u001b[0m \u001b[0mtarget_col\u001b[0m\u001b[0;34m)\u001b[0m\u001b[0;34m\u001b[0m\u001b[0;34m\u001b[0m\u001b[0m\n\u001b[0m\u001b[1;32m     27\u001b[0m         \u001b[0mmax_vif\u001b[0m \u001b[0;34m=\u001b[0m \u001b[0mvif_df\u001b[0m\u001b[0;34m[\u001b[0m\u001b[0;34m\"VIF\"\u001b[0m\u001b[0;34m]\u001b[0m\u001b[0;34m.\u001b[0m\u001b[0mmax\u001b[0m\u001b[0;34m(\u001b[0m\u001b[0;34m)\u001b[0m\u001b[0;34m\u001b[0m\u001b[0;34m\u001b[0m\u001b[0m\n\u001b[1;32m     28\u001b[0m         max_vif_feature = vif_df.sort_values(\n",
            "\u001b[0;32m/tmp/ipython-input-101-1939249439.py\u001b[0m in \u001b[0;36mcalculate_vif\u001b[0;34m(df, target_col)\u001b[0m\n\u001b[1;32m     11\u001b[0m     \u001b[0;32mwith\u001b[0m \u001b[0mwarnings\u001b[0m\u001b[0;34m.\u001b[0m\u001b[0mcatch_warnings\u001b[0m\u001b[0;34m(\u001b[0m\u001b[0;34m)\u001b[0m\u001b[0;34m:\u001b[0m\u001b[0;34m\u001b[0m\u001b[0;34m\u001b[0m\u001b[0m\n\u001b[1;32m     12\u001b[0m         \u001b[0mwarnings\u001b[0m\u001b[0;34m.\u001b[0m\u001b[0msimplefilter\u001b[0m\u001b[0;34m(\u001b[0m\u001b[0;34m\"ignore\"\u001b[0m\u001b[0;34m,\u001b[0m \u001b[0mcategory\u001b[0m\u001b[0;34m=\u001b[0m\u001b[0mRuntimeWarning\u001b[0m\u001b[0;34m)\u001b[0m\u001b[0;34m\u001b[0m\u001b[0;34m\u001b[0m\u001b[0m\n\u001b[0;32m---> 13\u001b[0;31m         vif_data[\"VIF\"] = [\n\u001b[0m\u001b[1;32m     14\u001b[0m             \u001b[0mvariance_inflation_factor\u001b[0m\u001b[0;34m(\u001b[0m\u001b[0mX\u001b[0m\u001b[0;34m.\u001b[0m\u001b[0mvalues\u001b[0m\u001b[0;34m,\u001b[0m \u001b[0mi\u001b[0m\u001b[0;34m)\u001b[0m\u001b[0;34m\u001b[0m\u001b[0;34m\u001b[0m\u001b[0m\n\u001b[1;32m     15\u001b[0m             \u001b[0;32mfor\u001b[0m \u001b[0mi\u001b[0m \u001b[0;32min\u001b[0m \u001b[0mrange\u001b[0m\u001b[0;34m(\u001b[0m\u001b[0mX\u001b[0m\u001b[0;34m.\u001b[0m\u001b[0mshape\u001b[0m\u001b[0;34m[\u001b[0m\u001b[0;36m1\u001b[0m\u001b[0;34m]\u001b[0m\u001b[0;34m)\u001b[0m\u001b[0;34m\u001b[0m\u001b[0;34m\u001b[0m\u001b[0m\n",
            "\u001b[0;32m/tmp/ipython-input-101-1939249439.py\u001b[0m in \u001b[0;36m<listcomp>\u001b[0;34m(.0)\u001b[0m\n\u001b[1;32m     12\u001b[0m         \u001b[0mwarnings\u001b[0m\u001b[0;34m.\u001b[0m\u001b[0msimplefilter\u001b[0m\u001b[0;34m(\u001b[0m\u001b[0;34m\"ignore\"\u001b[0m\u001b[0;34m,\u001b[0m \u001b[0mcategory\u001b[0m\u001b[0;34m=\u001b[0m\u001b[0mRuntimeWarning\u001b[0m\u001b[0;34m)\u001b[0m\u001b[0;34m\u001b[0m\u001b[0;34m\u001b[0m\u001b[0m\n\u001b[1;32m     13\u001b[0m         vif_data[\"VIF\"] = [\n\u001b[0;32m---> 14\u001b[0;31m             \u001b[0mvariance_inflation_factor\u001b[0m\u001b[0;34m(\u001b[0m\u001b[0mX\u001b[0m\u001b[0;34m.\u001b[0m\u001b[0mvalues\u001b[0m\u001b[0;34m,\u001b[0m \u001b[0mi\u001b[0m\u001b[0;34m)\u001b[0m\u001b[0;34m\u001b[0m\u001b[0;34m\u001b[0m\u001b[0m\n\u001b[0m\u001b[1;32m     15\u001b[0m             \u001b[0;32mfor\u001b[0m \u001b[0mi\u001b[0m \u001b[0;32min\u001b[0m \u001b[0mrange\u001b[0m\u001b[0;34m(\u001b[0m\u001b[0mX\u001b[0m\u001b[0;34m.\u001b[0m\u001b[0mshape\u001b[0m\u001b[0;34m[\u001b[0m\u001b[0;36m1\u001b[0m\u001b[0;34m]\u001b[0m\u001b[0;34m)\u001b[0m\u001b[0;34m\u001b[0m\u001b[0;34m\u001b[0m\u001b[0m\n\u001b[1;32m     16\u001b[0m         ]\n",
            "\u001b[0;32m/usr/local/lib/python3.11/dist-packages/statsmodels/stats/outliers_influence.py\u001b[0m in \u001b[0;36mvariance_inflation_factor\u001b[0;34m(exog, exog_idx)\u001b[0m\n\u001b[1;32m    194\u001b[0m     \u001b[0mmask\u001b[0m \u001b[0;34m=\u001b[0m \u001b[0mnp\u001b[0m\u001b[0;34m.\u001b[0m\u001b[0marange\u001b[0m\u001b[0;34m(\u001b[0m\u001b[0mk_vars\u001b[0m\u001b[0;34m)\u001b[0m \u001b[0;34m!=\u001b[0m \u001b[0mexog_idx\u001b[0m\u001b[0;34m\u001b[0m\u001b[0;34m\u001b[0m\u001b[0m\n\u001b[1;32m    195\u001b[0m     \u001b[0mx_noti\u001b[0m \u001b[0;34m=\u001b[0m \u001b[0mexog\u001b[0m\u001b[0;34m[\u001b[0m\u001b[0;34m:\u001b[0m\u001b[0;34m,\u001b[0m \u001b[0mmask\u001b[0m\u001b[0;34m]\u001b[0m\u001b[0;34m\u001b[0m\u001b[0;34m\u001b[0m\u001b[0m\n\u001b[0;32m--> 196\u001b[0;31m     \u001b[0mr_squared_i\u001b[0m \u001b[0;34m=\u001b[0m \u001b[0mOLS\u001b[0m\u001b[0;34m(\u001b[0m\u001b[0mx_i\u001b[0m\u001b[0;34m,\u001b[0m \u001b[0mx_noti\u001b[0m\u001b[0;34m)\u001b[0m\u001b[0;34m.\u001b[0m\u001b[0mfit\u001b[0m\u001b[0;34m(\u001b[0m\u001b[0;34m)\u001b[0m\u001b[0;34m.\u001b[0m\u001b[0mrsquared\u001b[0m\u001b[0;34m\u001b[0m\u001b[0;34m\u001b[0m\u001b[0m\n\u001b[0m\u001b[1;32m    197\u001b[0m     \u001b[0mvif\u001b[0m \u001b[0;34m=\u001b[0m \u001b[0;36m1.\u001b[0m \u001b[0;34m/\u001b[0m \u001b[0;34m(\u001b[0m\u001b[0;36m1.\u001b[0m \u001b[0;34m-\u001b[0m \u001b[0mr_squared_i\u001b[0m\u001b[0;34m)\u001b[0m\u001b[0;34m\u001b[0m\u001b[0;34m\u001b[0m\u001b[0m\n\u001b[1;32m    198\u001b[0m     \u001b[0;32mreturn\u001b[0m \u001b[0mvif\u001b[0m\u001b[0;34m\u001b[0m\u001b[0;34m\u001b[0m\u001b[0m\n",
            "\u001b[0;32m/usr/local/lib/python3.11/dist-packages/statsmodels/regression/linear_model.py\u001b[0m in \u001b[0;36mfit\u001b[0;34m(self, method, cov_type, cov_kwds, use_t, **kwargs)\u001b[0m\n\u001b[1;32m    331\u001b[0m                     hasattr(self, 'rank')):\n\u001b[1;32m    332\u001b[0m \u001b[0;34m\u001b[0m\u001b[0m\n\u001b[0;32m--> 333\u001b[0;31m                 \u001b[0mself\u001b[0m\u001b[0;34m.\u001b[0m\u001b[0mpinv_wexog\u001b[0m\u001b[0;34m,\u001b[0m \u001b[0msingular_values\u001b[0m \u001b[0;34m=\u001b[0m \u001b[0mpinv_extended\u001b[0m\u001b[0;34m(\u001b[0m\u001b[0mself\u001b[0m\u001b[0;34m.\u001b[0m\u001b[0mwexog\u001b[0m\u001b[0;34m)\u001b[0m\u001b[0;34m\u001b[0m\u001b[0;34m\u001b[0m\u001b[0m\n\u001b[0m\u001b[1;32m    334\u001b[0m                 self.normalized_cov_params = np.dot(\n\u001b[1;32m    335\u001b[0m                     self.pinv_wexog, np.transpose(self.pinv_wexog))\n",
            "\u001b[0;32m/usr/local/lib/python3.11/dist-packages/statsmodels/tools/tools.py\u001b[0m in \u001b[0;36mpinv_extended\u001b[0;34m(x, rcond)\u001b[0m\n\u001b[1;32m    262\u001b[0m     \u001b[0mx\u001b[0m \u001b[0;34m=\u001b[0m \u001b[0mnp\u001b[0m\u001b[0;34m.\u001b[0m\u001b[0masarray\u001b[0m\u001b[0;34m(\u001b[0m\u001b[0mx\u001b[0m\u001b[0;34m)\u001b[0m\u001b[0;34m\u001b[0m\u001b[0;34m\u001b[0m\u001b[0m\n\u001b[1;32m    263\u001b[0m     \u001b[0mx\u001b[0m \u001b[0;34m=\u001b[0m \u001b[0mx\u001b[0m\u001b[0;34m.\u001b[0m\u001b[0mconjugate\u001b[0m\u001b[0;34m(\u001b[0m\u001b[0;34m)\u001b[0m\u001b[0;34m\u001b[0m\u001b[0;34m\u001b[0m\u001b[0m\n\u001b[0;32m--> 264\u001b[0;31m     \u001b[0mu\u001b[0m\u001b[0;34m,\u001b[0m \u001b[0ms\u001b[0m\u001b[0;34m,\u001b[0m \u001b[0mvt\u001b[0m \u001b[0;34m=\u001b[0m \u001b[0mnp\u001b[0m\u001b[0;34m.\u001b[0m\u001b[0mlinalg\u001b[0m\u001b[0;34m.\u001b[0m\u001b[0msvd\u001b[0m\u001b[0;34m(\u001b[0m\u001b[0mx\u001b[0m\u001b[0;34m,\u001b[0m \u001b[0;32mFalse\u001b[0m\u001b[0;34m)\u001b[0m\u001b[0;34m\u001b[0m\u001b[0;34m\u001b[0m\u001b[0m\n\u001b[0m\u001b[1;32m    265\u001b[0m     \u001b[0ms_orig\u001b[0m \u001b[0;34m=\u001b[0m \u001b[0mnp\u001b[0m\u001b[0;34m.\u001b[0m\u001b[0mcopy\u001b[0m\u001b[0;34m(\u001b[0m\u001b[0ms\u001b[0m\u001b[0;34m)\u001b[0m\u001b[0;34m\u001b[0m\u001b[0;34m\u001b[0m\u001b[0m\n\u001b[1;32m    266\u001b[0m     \u001b[0mm\u001b[0m \u001b[0;34m=\u001b[0m \u001b[0mu\u001b[0m\u001b[0;34m.\u001b[0m\u001b[0mshape\u001b[0m\u001b[0;34m[\u001b[0m\u001b[0;36m0\u001b[0m\u001b[0;34m]\u001b[0m\u001b[0;34m\u001b[0m\u001b[0;34m\u001b[0m\u001b[0m\n",
            "\u001b[0;32m/usr/local/lib/python3.11/dist-packages/numpy/linalg/_linalg.py\u001b[0m in \u001b[0;36msvd\u001b[0;34m(a, full_matrices, compute_uv, hermitian)\u001b[0m\n\u001b[1;32m   1794\u001b[0m                       \u001b[0minvalid\u001b[0m\u001b[0;34m=\u001b[0m\u001b[0;34m'call'\u001b[0m\u001b[0;34m,\u001b[0m \u001b[0mover\u001b[0m\u001b[0;34m=\u001b[0m\u001b[0;34m'ignore'\u001b[0m\u001b[0;34m,\u001b[0m \u001b[0mdivide\u001b[0m\u001b[0;34m=\u001b[0m\u001b[0;34m'ignore'\u001b[0m\u001b[0;34m,\u001b[0m\u001b[0;34m\u001b[0m\u001b[0;34m\u001b[0m\u001b[0m\n\u001b[1;32m   1795\u001b[0m                       under='ignore'):\n\u001b[0;32m-> 1796\u001b[0;31m             \u001b[0mu\u001b[0m\u001b[0;34m,\u001b[0m \u001b[0ms\u001b[0m\u001b[0;34m,\u001b[0m \u001b[0mvh\u001b[0m \u001b[0;34m=\u001b[0m \u001b[0mgufunc\u001b[0m\u001b[0;34m(\u001b[0m\u001b[0ma\u001b[0m\u001b[0;34m,\u001b[0m \u001b[0msignature\u001b[0m\u001b[0;34m=\u001b[0m\u001b[0msignature\u001b[0m\u001b[0;34m)\u001b[0m\u001b[0;34m\u001b[0m\u001b[0;34m\u001b[0m\u001b[0m\n\u001b[0m\u001b[1;32m   1797\u001b[0m         \u001b[0mu\u001b[0m \u001b[0;34m=\u001b[0m \u001b[0mu\u001b[0m\u001b[0;34m.\u001b[0m\u001b[0mastype\u001b[0m\u001b[0;34m(\u001b[0m\u001b[0mresult_t\u001b[0m\u001b[0;34m,\u001b[0m \u001b[0mcopy\u001b[0m\u001b[0;34m=\u001b[0m\u001b[0;32mFalse\u001b[0m\u001b[0;34m)\u001b[0m\u001b[0;34m\u001b[0m\u001b[0;34m\u001b[0m\u001b[0m\n\u001b[1;32m   1798\u001b[0m         \u001b[0ms\u001b[0m \u001b[0;34m=\u001b[0m \u001b[0ms\u001b[0m\u001b[0;34m.\u001b[0m\u001b[0mastype\u001b[0m\u001b[0;34m(\u001b[0m\u001b[0m_realType\u001b[0m\u001b[0;34m(\u001b[0m\u001b[0mresult_t\u001b[0m\u001b[0;34m)\u001b[0m\u001b[0;34m,\u001b[0m \u001b[0mcopy\u001b[0m\u001b[0;34m=\u001b[0m\u001b[0;32mFalse\u001b[0m\u001b[0;34m)\u001b[0m\u001b[0;34m\u001b[0m\u001b[0;34m\u001b[0m\u001b[0m\n",
            "\u001b[0;31mKeyboardInterrupt\u001b[0m: "
          ]
        }
      ]
    },
    {
      "cell_type": "markdown",
      "source": [
        "### 범주형 - 카이제곱 검정을 활용하여 선정"
      ],
      "metadata": {
        "id": "oq4b0rWYfxyh"
      },
      "id": "oq4b0rWYfxyh"
    },
    {
      "cell_type": "code",
      "source": [
        "obj_cols = df_도입_obj.columns.tolist()\n",
        "obj_cols.append('부실여부')\n",
        "df_도입_obj = df_도입[obj_cols]\n",
        "\n",
        "obj_cols2 = df_성장_obj.columns.tolist()\n",
        "obj_cols2.append('부실여부')\n",
        "df_성장_obj = df_성장[obj_cols2]\n",
        "\n",
        "obj_cols3 = df_성숙_obj.columns.tolist()\n",
        "obj_cols3.append('부실여부')\n",
        "df_성숙_obj = df_성숙[obj_cols3]\n",
        "\n",
        "obj_cols4 = df_쇠퇴_obj.columns.tolist()\n",
        "obj_cols4.append('부실여부')\n",
        "df_쇠퇴_obj = df_쇠퇴[obj_cols4]"
      ],
      "metadata": {
        "id": "fneQdbC6gflA"
      },
      "id": "fneQdbC6gflA",
      "execution_count": 102,
      "outputs": []
    },
    {
      "cell_type": "code",
      "source": [
        "# 회사명과 회계년도를 제외하고 각 범주형 데이터에 대해서 카이제곱검정 진행\n",
        "from scipy.stats import chi2_contingency\n",
        "\n",
        "def categorical_selection(df):\n",
        "  categorical_cols = df.columns.tolist()[2:-1]\n",
        "  col_list = []\n",
        "  for col in categorical_cols:\n",
        "    contingency_table = pd.crosstab(df[col],df['부실여부'])\n",
        "    chi2, p, dof, expected = chi2_contingency(contingency_table)\n",
        "    if p < 0.05:\n",
        "      col_list.append(col)\n",
        "  return df[col_list]\n",
        "\n",
        "df_도입_obj = categorical_selection(df_도입_obj)\n",
        "df_성장_obj = categorical_selection(df_성장_obj)\n",
        "df_성숙_obj = categorical_selection(df_성숙_obj)\n",
        "df_쇠퇴_obj = categorical_selection(df_쇠퇴_obj)"
      ],
      "metadata": {
        "id": "Y15gZ3RbbbKR"
      },
      "id": "Y15gZ3RbbbKR",
      "execution_count": 87,
      "outputs": []
    },
    {
      "cell_type": "code",
      "source": [
        "도입_selected_col = VIF_도입.columns.tolist().append(df_도입_obj.columns)\n",
        "성장_selected_col = VIF_성장.columns.tolist().append(df_성장_obj.columns)\n",
        "성숙_selected_col = VIF_성숙.columns.tolist().append(df_성숙_obj.columns)\n",
        "쇠퇴_selected_col = VIF_쇠퇴.columns.tolist().append(df_쇠퇴_obj.columns)\n",
        "\n",
        "df_final1 = df_도입[도입_selected_col]\n",
        "df_final2 = df_성장[성장_selected_col]\n",
        "df_final3 = df_성숙[성숙_selected_col]\n",
        "df_final4 = df_쇠퇴[쇠퇴_selected_col]"
      ],
      "metadata": {
        "collapsed": true,
        "id": "VAN-rd0Xku5E",
        "outputId": "b30c3c48-e853-40c4-a430-5ba865cd3fa9",
        "colab": {
          "base_uri": "https://localhost:8080/",
          "height": 221
        }
      },
      "id": "VAN-rd0Xku5E",
      "execution_count": 104,
      "outputs": [
        {
          "output_type": "error",
          "ename": "NameError",
          "evalue": "name 'VIF_도입' is not defined",
          "traceback": [
            "\u001b[0;31m---------------------------------------------------------------------------\u001b[0m",
            "\u001b[0;31mNameError\u001b[0m                                 Traceback (most recent call last)",
            "\u001b[0;32m/tmp/ipython-input-104-1209973355.py\u001b[0m in \u001b[0;36m<cell line: 0>\u001b[0;34m()\u001b[0m\n\u001b[0;32m----> 1\u001b[0;31m \u001b[0m도입_selected_col\u001b[0m \u001b[0;34m=\u001b[0m \u001b[0mVIF_도입\u001b[0m\u001b[0;34m.\u001b[0m\u001b[0mcolumns\u001b[0m\u001b[0;34m.\u001b[0m\u001b[0mtolist\u001b[0m\u001b[0;34m(\u001b[0m\u001b[0;34m)\u001b[0m\u001b[0;34m.\u001b[0m\u001b[0mappend\u001b[0m\u001b[0;34m(\u001b[0m\u001b[0mdf_도입_obj\u001b[0m\u001b[0;34m.\u001b[0m\u001b[0mcolumns\u001b[0m\u001b[0;34m)\u001b[0m\u001b[0;34m\u001b[0m\u001b[0;34m\u001b[0m\u001b[0m\n\u001b[0m\u001b[1;32m      2\u001b[0m \u001b[0m성장_selected_col\u001b[0m \u001b[0;34m=\u001b[0m \u001b[0mVIF_성장\u001b[0m\u001b[0;34m.\u001b[0m\u001b[0mcolumns\u001b[0m\u001b[0;34m.\u001b[0m\u001b[0mtolist\u001b[0m\u001b[0;34m(\u001b[0m\u001b[0;34m)\u001b[0m\u001b[0;34m.\u001b[0m\u001b[0mappend\u001b[0m\u001b[0;34m(\u001b[0m\u001b[0mdf_성장_obj\u001b[0m\u001b[0;34m.\u001b[0m\u001b[0mcolumns\u001b[0m\u001b[0;34m)\u001b[0m\u001b[0;34m\u001b[0m\u001b[0;34m\u001b[0m\u001b[0m\n\u001b[1;32m      3\u001b[0m \u001b[0m성숙_selected_col\u001b[0m \u001b[0;34m=\u001b[0m \u001b[0mVIF_성숙\u001b[0m\u001b[0;34m.\u001b[0m\u001b[0mcolumns\u001b[0m\u001b[0;34m.\u001b[0m\u001b[0mtolist\u001b[0m\u001b[0;34m(\u001b[0m\u001b[0;34m)\u001b[0m\u001b[0;34m.\u001b[0m\u001b[0mappend\u001b[0m\u001b[0;34m(\u001b[0m\u001b[0mdf_성숙_obj\u001b[0m\u001b[0;34m.\u001b[0m\u001b[0mcolumns\u001b[0m\u001b[0;34m)\u001b[0m\u001b[0;34m\u001b[0m\u001b[0;34m\u001b[0m\u001b[0m\n\u001b[1;32m      4\u001b[0m \u001b[0m쇠퇴_selected_col\u001b[0m \u001b[0;34m=\u001b[0m \u001b[0mVIF_쇠퇴\u001b[0m\u001b[0;34m.\u001b[0m\u001b[0mcolumns\u001b[0m\u001b[0;34m.\u001b[0m\u001b[0mtolist\u001b[0m\u001b[0;34m(\u001b[0m\u001b[0;34m)\u001b[0m\u001b[0;34m.\u001b[0m\u001b[0mappend\u001b[0m\u001b[0;34m(\u001b[0m\u001b[0mdf_쇠퇴_obj\u001b[0m\u001b[0;34m.\u001b[0m\u001b[0mcolumns\u001b[0m\u001b[0;34m)\u001b[0m\u001b[0;34m\u001b[0m\u001b[0;34m\u001b[0m\u001b[0m\n\u001b[1;32m      5\u001b[0m \u001b[0;34m\u001b[0m\u001b[0m\n",
            "\u001b[0;31mNameError\u001b[0m: name 'VIF_도입' is not defined"
          ]
        }
      ]
    },
    {
      "cell_type": "code",
      "source": [
        "# 파일 보내기\n",
        "df_final1.to_csv('도입기_feature_selected.csv',index=False)\n",
        "df_final2.to_csv('성장기_feature_selected.csv',index=False)\n",
        "df_final3.to_csv('성숙기_feature_selected.csv',index=False)\n",
        "df_final4.to_csv('쇠퇴기_feature_selected.csv',index=False)"
      ],
      "metadata": {
        "id": "n7xM34B5sU9j"
      },
      "id": "n7xM34B5sU9j",
      "execution_count": null,
      "outputs": []
    }
  ],
  "metadata": {
    "kernelspec": {
      "display_name": "Python 3",
      "language": "python",
      "name": "python3"
    },
    "language_info": {
      "codemirror_mode": {
        "name": "ipython",
        "version": 3
      },
      "file_extension": ".py",
      "mimetype": "text/x-python",
      "name": "python",
      "nbconvert_exporter": "python",
      "pygments_lexer": "ipython3",
      "version": "3.11.9"
    },
    "colab": {
      "provenance": [],
      "include_colab_link": true
    }
  },
  "nbformat": 4,
  "nbformat_minor": 5
}