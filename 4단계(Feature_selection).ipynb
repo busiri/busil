{
  "cells": [
    {
      "cell_type": "markdown",
      "metadata": {
        "colab_type": "text",
        "id": "view-in-github"
      },
      "source": [
        "<a href=\"https://colab.research.google.com/github/busiri/busil/blob/main/4%EB%8B%A8%EA%B3%84(Feature_selection).ipynb\" target=\"_parent\"><img src=\"https://colab.research.google.com/assets/colab-badge.svg\" alt=\"Open In Colab\"/></a>"
      ]
    },
    {
      "cell_type": "code",
      "execution_count": null,
      "id": "698243ab",
      "metadata": {
        "id": "698243ab"
      },
      "outputs": [],
      "source": [
        "import warnings, sys, os\n",
        "import pandas as pd\n",
        "import matplotlib.pyplot as plt\n",
        "from sklearn.preprocessing import StandardScaler\n",
        "from sklearn.feature_selection import SelectFromModel\n",
        "from lightgbm import LGBMClassifier\n",
        "\n",
        "warnings.filterwarnings('ignore')\n",
        "\n",
        "pd.set_option(\"display.max_columns\", None)   # 열 생략 없이 전부 출력\n",
        "pd.set_option(\"display.expand_frame_repr\", False)  # 줄 넘김 없이 한 줄에 출력\n",
        "\n",
        "warnings.filterwarnings(\"ignore\")\n",
        "\n",
        "plt.rcParams[\"font.family\"]      = \"Malgun Gothic\"   # Windows 기본 한글 글꼴\n",
        "plt.rcParams[\"axes.unicode_minus\"] = False           # - 부호 깨짐 방지"
      ]
    },
    {
      "cell_type": "code",
      "execution_count": null,
      "id": "f837195a",
      "metadata": {
        "id": "f837195a"
      },
      "outputs": [],
      "source": [
        "df1=pd.read_csv('도입_t_test3.csv')\n",
        "df2=pd.read_csv('성장_t_test3.csv')\n",
        "df3=pd.read_csv('성숙_t_test3.csv')\n",
        "df4=pd.read_csv('쇠퇴_t_test3.csv')"
      ]
    },
    {
      "cell_type": "markdown",
      "id": "UhsG2F7LtWVr",
      "metadata": {
        "id": "UhsG2F7LtWVr"
      },
      "source": [
        "### LGBM을 활용하여 Feaute importance 상위 200개 피처 선정"
      ]
    },
    {
      "cell_type": "code",
      "execution_count": null,
      "id": "vPlTTQqns-j_",
      "metadata": {
        "id": "vPlTTQqns-j_"
      },
      "outputs": [],
      "source": [
        "\n",
        "# 0) 가정: X_train, X_test, y_train, y_test 준비 완료\n",
        "\n",
        "# 1) 스케일링\n",
        "scaler = StandardScaler()\n",
        "X_scaled       = scaler.fit_transform(X_train)\n",
        "X_valid_scaled  = scaler.transform(X_valid)\n",
        "\n",
        "# 2) LightGBM 모델 학습\n",
        "lgb = LGBMClassifier(\n",
        "    n_estimators=200,\n",
        "    learning_rate=0.05,\n",
        "    random_state=42\n",
        ")\n",
        "lgb.fit(X_scaled, y_train)\n",
        "\n",
        "# 3) feature_importances_ 를 Series로 추출·정렬\n",
        "feat_imp = pd.Series(\n",
        "    lgb.feature_importances_,\n",
        "    index=X_train.columns   # ← 여기\n",
        ").sort_values(ascending=False)\n",
        "\n",
        "# 4) 상위 K개 선택 (예: K=50)\n",
        "K = 200\n",
        "topK = feat_imp.head(K).index.tolist()\n",
        "X_train = X_train[topK]\n",
        "X_valid  = X_valid[topK]\n",
        "X_test = X_test[topK]\n",
        "print(f\"Top {K} features:\\n\", feat_imp.head(K))"
      ]
    },
    {
      "cell_type": "markdown",
      "id": "s4z53qAptfSO",
      "metadata": {
        "id": "s4z53qAptfSO"
      },
      "source": [
        "### t-test를 활용하여 정상집단과 부실집단 간 평균 차이를 보이는 컬럼 선정(유의수준 : 0.05)"
      ]
    },
    {
      "cell_type": "code",
      "execution_count": null,
      "id": "7X2p2R64s8Oh",
      "metadata": {
        "id": "7X2p2R64s8Oh"
      },
      "outputs": [],
      "source": [
        "# t-test\n",
        "import pandas as pd\n",
        "from scipy.stats import ttest_ind\n",
        "\n",
        "# cat_cols 미리 지정\n",
        "cat_cols = [\n",
        "    '회사명', '거래소코드', '회계년도', 'IFRS_CONN', 'IFRS', '기업규모명',\n",
        "    '통계청 한국표준산업분류 11차(대분류)', '상장폐지일', '대표이사변경여부',\n",
        "    '수도권', 'GAAP', '회계년도연속여부'\n",
        "]\n",
        "\n",
        "phase_files = [\n",
        "    ('도입_train_파생_winsor.csv', '도입'),\n",
        "    ('성장_train_파생_winsor.csv', '성장'),\n",
        "    ('성숙_train_파생_winsor.csv', '성숙'),\n",
        "    ('쇠퇴_train_파생_winsor.csv', '쇠퇴')\n",
        "]\n",
        "\n",
        "for file, label in phase_files:\n",
        "    try:\n",
        "        df = pd.read_csv(file)\n",
        "        # 실제 데이터에 존재하는 범주형 컬럼만 추출\n",
        "        existing_cat_cols = [col for col in cat_cols if col in df.columns]\n",
        "        df_cat = df[existing_cat_cols].copy() if existing_cat_cols else pd.DataFrame()\n",
        "\n",
        "        # 수치형 컬럼만 (타겟/범주형 제외)\n",
        "        num_cols = df.select_dtypes(include=['number']).columns.tolist()\n",
        "        if '부실여부' in num_cols:\n",
        "            num_cols.remove('부실여부')\n",
        "        # 범주형 변수는 t-test에서 제외\n",
        "\n",
        "        # T-test로 p-value가 0.05 미만인 컬럼만 남김\n",
        "        cols_to_keep = []\n",
        "        for col in num_cols:\n",
        "            group0 = df[df['부실여부'] == 0][col].dropna()\n",
        "            group1 = df[df['부실여부'] == 1][col].dropna()\n",
        "            if len(group0) > 1 and len(group1) > 1:\n",
        "                stat, p = ttest_ind(group0, group1, equal_var=False)\n",
        "                if p < 0.05:\n",
        "                    cols_to_keep.append(col)\n",
        "            else:\n",
        "                # 샘플 부족 시 보존\n",
        "                cols_to_keep.append(col)\n",
        "        # 최종 컬럼: 타겟 + 유의미한 수치형\n",
        "        final_cols = ['부실여부'] + cols_to_keep\n",
        "        df_filtered = df[final_cols].copy()\n",
        "\n",
        "        # t-test 후, 범주형 변수 다시 합치기 (인덱스 맞춰서)\n",
        "        df_result = pd.concat([df_filtered.reset_index(drop=True), df_cat.reset_index(drop=True)], axis=1)\n",
        "        df_result = df_result.loc[:, ~df_result.columns.duplicated()]\n",
        "\n",
        "        save_name = f'{label}_t_test3.csv'\n",
        "        df_result.to_csv(save_name, index=False)\n",
        "        print(f\"[{label}] T-test 통과 컬럼 + 범주형 변수 포함 데이터 저장 완료: {save_name}\")\n",
        "    except Exception as e:\n",
        "        print(f\"[{label}] 처리 중 에러 발생: {e}\")"
      ]
    },
    {
      "cell_type": "markdown",
      "id": "mobkXuS4tnBu",
      "metadata": {
        "id": "mobkXuS4tnBu"
      },
      "source": [
        "### 다중공선성 제거를 위해 모든 컬럼이 VIF 10 미만이 될때까지 가장 높은 VIF를 갖는 컬럼 제거"
      ]
    },
    {
      "cell_type": "code",
      "execution_count": null,
      "id": "0193927c",
      "metadata": {
        "collapsed": true,
        "id": "0193927c",
        "outputId": "b1afe9d3-050e-488b-afaa-9fd79a545c84"
      },
      "outputs": [
        {
          "name": "stdout",
          "output_type": "stream",
          "text": [
            "[도입] 누락된 cat_cols: ['상장폐지일', '대표이사변경여부']\n",
            "[도입] Step 0: 최대 VIF = 3736.521 (영업비용대영업수익비율)\n",
            "[도입] '영업비용대영업수익비율' 컬럼(VIF=3736.521)을 제거합니다.\n",
            "[도입] Step 1: 최대 VIF = 1040.847 (자기자본배율)\n",
            "[도입] '자기자본배율' 컬럼(VIF=1040.847)을 제거합니다.\n",
            "[도입] Step 2: 최대 VIF = 550.005 (총자본영업이익률)\n",
            "[도입] '총자본영업이익률' 컬럼(VIF=550.005)을 제거합니다.\n",
            "[도입] Step 3: 최대 VIF = 208.201 (총자본순이익률)\n",
            "[도입] '총자본순이익률' 컬럼(VIF=208.201)을 제거합니다.\n",
            "[도입] Step 4: 최대 VIF = 130.630 (타인자본구성비율)\n",
            "[도입] '타인자본구성비율' 컬럼(VIF=130.630)을 제거합니다.\n",
            "[도입] Step 5: 최대 VIF = 105.804 (법인세비용차감전손익(천원))\n",
            "[도입] '법인세비용차감전손익(천원)' 컬럼(VIF=105.804)을 제거합니다.\n",
            "[도입] Step 6: 최대 VIF = 85.825 (자산(천원))\n",
            "[도입] '자산(천원)' 컬럼(VIF=85.825)을 제거합니다.\n",
            "[도입] Step 7: 최대 VIF = 62.544 (유동자산구성비율)\n",
            "[도입] '유동자산구성비율' 컬럼(VIF=62.544)을 제거합니다.\n",
            "[도입] Step 8: 최대 VIF = 55.028 (총자본회전률)\n",
            "[도입] '총자본회전률' 컬럼(VIF=55.028)을 제거합니다.\n",
            "[도입] Step 9: 최대 VIF = 47.733 (총자본사업이익률)\n",
            "[도입] '총자본사업이익률' 컬럼(VIF=47.733)을 제거합니다.\n",
            "[도입] Step 10: 최대 VIF = 39.372 (매출액(천원))\n",
            "[도입] '매출액(천원)' 컬럼(VIF=39.372)을 제거합니다.\n",
            "[도입] Step 11: 최대 VIF = 38.846 (부채비율)\n",
            "[도입] '부채비율' 컬럼(VIF=38.846)을 제거합니다.\n",
            "[도입] Step 12: 최대 VIF = 35.887 (/ EBIT / 자산)\n",
            "[도입] '/ EBIT / 자산' 컬럼(VIF=35.887)을 제거합니다.\n",
            "[도입] Step 13: 최대 VIF = 35.138 (비유동자산구성비율)\n",
            "[도입] '비유동자산구성비율' 컬럼(VIF=35.138)을 제거합니다.\n",
            "[도입] Step 14: 최대 VIF = 29.148 (/ EBIT)\n",
            "[도입] '/ EBIT' 컬럼(VIF=29.148)을 제거합니다.\n",
            "[도입] Step 15: 최대 VIF = 26.003 (타인자본회전률)\n",
            "[도입] '타인자본회전률' 컬럼(VIF=26.003)을 제거합니다.\n",
            "[도입] Step 16: 최대 VIF = 25.490 (매출액순이익률)\n",
            "[도입] '매출액순이익률' 컬럼(VIF=25.490)을 제거합니다.\n",
            "[도입] Step 17: 최대 VIF = 24.612 (자기자본구성비율)\n",
            "[도입] '자기자본구성비율' 컬럼(VIF=24.612)을 제거합니다.\n",
            "[도입] Step 18: 최대 VIF = 23.568 (차입금평균이자율)\n",
            "[도입] '차입금평균이자율' 컬럼(VIF=23.568)을 제거합니다.\n",
            "[도입] Step 19: 최대 VIF = 22.409 (부채(천원))\n",
            "[도입] '부채(천원)' 컬럼(VIF=22.409)을 제거합니다.\n",
            "[도입] Step 20: 최대 VIF = 20.735 (노동소득분배율)\n",
            "[도입] '노동소득분배율' 컬럼(VIF=20.735)을 제거합니다.\n",
            "[도입] Step 21: 최대 VIF = 18.624 (기업순이익률)\n",
            "[도입] '기업순이익률' 컬럼(VIF=18.624)을 제거합니다.\n",
            "[도입] Step 22: 최대 VIF = 15.890 (차입금의존도)\n",
            "[도입] '차입금의존도' 컬럼(VIF=15.890)을 제거합니다.\n",
            "[도입] Step 23: 최대 VIF = 15.509 (사내유보 대 자기자본비율)\n",
            "[도입] '사내유보 대 자기자본비율' 컬럼(VIF=15.509)을 제거합니다.\n",
            "[도입] Step 24: 최대 VIF = 15.255 (순운전자본회전률)\n",
            "[도입] '순운전자본회전률' 컬럼(VIF=15.255)을 제거합니다.\n",
            "[도입] Step 25: 최대 VIF = 15.038 (/ EBIT / 매출액)\n",
            "[도입] '/ EBIT / 매출액' 컬럼(VIF=15.038)을 제거합니다.\n",
            "[도입] Step 26: 최대 VIF = 14.100 (당좌비율)\n",
            "[도입] '당좌비율' 컬럼(VIF=14.100)을 제거합니다.\n",
            "[도입] Step 27: 최대 VIF = 13.940 (총자본투자효율)\n",
            "[도입] '총자본투자효율' 컬럼(VIF=13.940)을 제거합니다.\n",
            "[도입] Step 28: 최대 VIF = 12.802 (매출원가 대 매출액비율)\n",
            "[도입] '매출원가 대 매출액비율' 컬럼(VIF=12.802)을 제거합니다.\n",
            "[도입] Step 29: 최대 VIF = 11.876 (경영자본영업이익률)\n",
            "[도입] '경영자본영업이익률' 컬럼(VIF=11.876)을 제거합니다.\n",
            "[도입] Step 30: 최대 VIF = 11.738 (CASH FLOW 대 부채비율)\n",
            "[도입] 'CASH FLOW 대 부채비율' 컬럼(VIF=11.738)을 제거합니다.\n",
            "[도입] Step 31: 최대 VIF = 11.180 (경영자본회전률)\n",
            "[도입] '경영자본회전률' 컬럼(VIF=11.180)을 제거합니다.\n",
            "[도입] Step 32: 최대 VIF = 10.729 (유동부채(천원))\n",
            "[도입] '유동부채(천원)' 컬럼(VIF=10.729)을 제거합니다.\n",
            "[도입] Step 33: 최대 VIF = 10.631 (금융비용부담률)\n",
            "[도입] '금융비용부담률' 컬럼(VIF=10.631)을 제거합니다.\n",
            "[도입] Step 34: 최대 VIF = 10.062 (차입금비율)\n",
            "[도입] '차입금비율' 컬럼(VIF=10.062)을 제거합니다.\n",
            "[도입] Step 35: 최대 VIF = 9.961 (자본(천원))\n",
            "[도입] 모든 VIF가 10 이하입니다. 반복 종료.\n",
            "[도입] 최종 파일 저장 완료: 도입_최종(컬럼선택삭제).csv\n"
          ]
        }
      ],
      "source": [
        "from statsmodels.stats.outliers_influence import variance_inflation_factor\n",
        "import pandas as pd\n",
        "import warnings\n",
        "\n",
        "cat_cols = [\n",
        "    '회사명', '거래소코드', '회계년도', 'IFRS_CONN', 'IFRS', '기업규모명',\n",
        "    '통계청 한국표준산업분류 11차(대분류)', '상장폐지일', '대표이사변경여부',\n",
        "    '수도권', 'GAAP', '회계년도연속여부'\n",
        "]\n",
        "\n",
        "def calculate_vif(df, target_col):\n",
        "    X = df.drop(columns=[target_col], errors='ignore')\n",
        "    # 수치형 컬럼만, 결측치 컬럼은 제외\n",
        "    X = X.select_dtypes(include=[\"number\"]).dropna(axis=1, how='all')\n",
        "    vif_data = pd.DataFrame()\n",
        "    vif_data[\"feature\"] = X.columns\n",
        "    with warnings.catch_warnings():\n",
        "        warnings.simplefilter(\"ignore\", category=RuntimeWarning)\n",
        "        vif_data[\"VIF\"] = [\n",
        "            variance_inflation_factor(X.values, i)\n",
        "            for i in range(X.shape[1])\n",
        "        ]\n",
        "    return vif_data\n",
        "\n",
        "def vif_removal_for_phase(df, target_col, cat_cols, threshold=10, label=\"국면\"):\n",
        "    # 1) 실제 존재하는 cat_cols만 골라오기\n",
        "    existing_cats = [c for c in cat_cols if c in df.columns]\n",
        "    missing = [c for c in cat_cols if c not in df.columns]\n",
        "    print(f\"[{label}] 누락된 cat_cols: {missing}\")\n",
        "\n",
        "    # 2) VIF 계산 대상 숫자형 컬럼에서 cat_cols 제외\n",
        "    num_cols = df.select_dtypes(include=[\"number\"]).columns.tolist()\n",
        "    cols_for_vif = [\n",
        "        col for col in num_cols\n",
        "        if col != target_col and col not in existing_cats\n",
        "    ]\n",
        "    df_vif = df[cols_for_vif + [target_col]].copy()\n",
        "\n",
        "    # 3) 존재하는 범주형 컬럼만 따로 보관\n",
        "    df_cat = df[existing_cats].copy()\n",
        "\n",
        "    # 4) VIF 반복 제거\n",
        "    step = 0\n",
        "    while True:\n",
        "        vif_df = calculate_vif(df_vif, target_col)\n",
        "        max_vif = vif_df[\"VIF\"].max()\n",
        "        max_vif_feature = vif_df.sort_values(\n",
        "            by=\"VIF\", ascending=False\n",
        "        ).iloc[0][\"feature\"]\n",
        "        print(f\"[{label}] Step {step}: 최대 VIF = {max_vif:.3f} ({max_vif_feature})\")\n",
        "        if max_vif <= threshold:\n",
        "            print(f\"[{label}] 모든 VIF가 {threshold} 이하입니다. 반복 종료.\")\n",
        "            break\n",
        "        print(\n",
        "            f\"[{label}] '{max_vif_feature}' 컬럼(VIF={max_vif:.3f})을 제거합니다.\"\n",
        "        )\n",
        "        df_vif = df_vif.drop(columns=[max_vif_feature])\n",
        "        step += 1\n",
        "\n",
        "    # 5) VIF에서 살아남은 숫자형 컬럼 + 타겟 + 범주형 컬럼 합치기\n",
        "    df_final = pd.concat([df_vif, df_cat], axis=1)\n",
        "    # 중복 컬럼 제거\n",
        "    df_final = df_final.loc[:, ~df_final.columns.duplicated()]\n",
        "\n",
        "    # 6) 결과 저장\n",
        "    save_name = f'{label}_최종(컬럼선택삭제).csv'\n",
        "    df_final.to_csv(save_name, index=False)\n",
        "    print(f\"[{label}] 최종 파일 저장 완료: {save_name}\")\n",
        "\n",
        "    return df_final, vif_df"
      ]
    },
    {
      "cell_type": "code",
      "execution_count": null,
      "id": "gRfT8U70sCX1",
      "metadata": {
        "id": "gRfT8U70sCX1"
      },
      "outputs": [],
      "source": [
        "# 도입기 (VIF 제거)\n",
        "df_final, vif_summary = vif_removal_for_phase(\n",
        "    df1,\n",
        "    target_col='부실여부',\n",
        "    cat_cols=cat_cols,\n",
        "    threshold=10,\n",
        "    label=\"도입\"\n",
        ")"
      ]
    },
    {
      "cell_type": "code",
      "execution_count": null,
      "id": "J43wTeMUsILv",
      "metadata": {
        "id": "J43wTeMUsILv"
      },
      "outputs": [],
      "source": [
        "# 성장기 (VIF 제거)\n",
        "df_final2, vif_summary2 = vif_removal_for_phase(\n",
        "    df2,\n",
        "    target_col='부실여부',\n",
        "    cat_cols=cat_cols,\n",
        "    threshold=10,\n",
        "    label=\"성장\"\n",
        ")"
      ]
    },
    {
      "cell_type": "code",
      "execution_count": null,
      "id": "DWh87vRssNIW",
      "metadata": {
        "id": "DWh87vRssNIW"
      },
      "outputs": [],
      "source": [
        "# 성숙기 (VIF 제거)\n",
        "df_final3, vif_summary3 = vif_removal_for_phase(\n",
        "    df3,\n",
        "    target_col='부실여부',\n",
        "    cat_cols=cat_cols,\n",
        "    threshold=10,\n",
        "    label=\"성숙\"\n",
        ")"
      ]
    },
    {
      "cell_type": "code",
      "execution_count": null,
      "id": "VX5Wp7besRx1",
      "metadata": {
        "id": "VX5Wp7besRx1"
      },
      "outputs": [],
      "source": [
        "# 쇠퇴기 (VIF 제거)\n",
        "df_final4, vif_summary4 = vif_removal_for_phase(\n",
        "    df3,\n",
        "    target_col='부실여부',\n",
        "    cat_cols=cat_cols,\n",
        "    threshold=10,\n",
        "    label=\"쇠퇴\"\n",
        ")"
      ]
    },
    {
      "cell_type": "code",
      "execution_count": null,
      "id": "n7xM34B5sU9j",
      "metadata": {
        "id": "n7xM34B5sU9j"
      },
      "outputs": [],
      "source": [
        "# 파일 보내기\n",
        "df_final.to_csv('도입기_feature_selected.csv',index=False)\n",
        "df_final2.to_csv('성장기_feature_selected.csv',index=False)\n",
        "df_final3.to_csv('성숙기_feature_selected.csv',index=False)\n",
        "df_final4.to_csv('쇠퇴기_feature_selected.csv',index=False)"
      ]
    }
  ],
  "metadata": {
    "colab": {
      "include_colab_link": true,
      "provenance": []
    },
    "kernelspec": {
      "display_name": "Python 3",
      "language": "python",
      "name": "python3"
    },
    "language_info": {
      "codemirror_mode": {
        "name": "ipython",
        "version": 3
      },
      "file_extension": ".py",
      "mimetype": "text/x-python",
      "name": "python",
      "nbconvert_exporter": "python",
      "pygments_lexer": "ipython3",
      "version": "3.11.9"
    }
  },
  "nbformat": 4,
  "nbformat_minor": 5
}
