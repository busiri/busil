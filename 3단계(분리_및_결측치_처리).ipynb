{
  "nbformat": 4,
  "nbformat_minor": 0,
  "metadata": {
    "colab": {
      "provenance": [],
      "authorship_tag": "ABX9TyMO7TcNnlnkcz9iN4g1qld/",
      "include_colab_link": true
    },
    "kernelspec": {
      "name": "python3",
      "display_name": "Python 3"
    },
    "language_info": {
      "name": "python"
    }
  },
  "cells": [
    {
      "cell_type": "markdown",
      "metadata": {
        "id": "view-in-github",
        "colab_type": "text"
      },
      "source": [
        "<a href=\"https://colab.research.google.com/github/busiri/busil/blob/main/3%EB%8B%A8%EA%B3%84(%EB%B6%84%EB%A6%AC_%EB%B0%8F_%EA%B2%B0%EC%B8%A1%EC%B9%98_%EC%B2%98%EB%A6%AC).ipynb\" target=\"_parent\"><img src=\"https://colab.research.google.com/assets/colab-badge.svg\" alt=\"Open In Colab\"/></a>"
      ]
    },
    {
      "cell_type": "markdown",
      "source": [
        "### 데이터 로드"
      ],
      "metadata": {
        "id": "yKWZ--WLQ4Eb"
      }
    },
    {
      "cell_type": "code",
      "execution_count": 54,
      "metadata": {
        "id": "yXeiOa0AAL-S"
      },
      "outputs": [],
      "source": [
        "import pandas as pd\n",
        "from sklearn.model_selection import train_test_split\n",
        "import numpy as np\n",
        "from tqdm import tqdm\n",
        "\n",
        "df1 = pd.read_csv('/content/eda도입_winsorized.csv')\n",
        "df2 = pd.read_csv('/content/eda성장_winsorized.csv')\n",
        "df3 = pd.read_csv('/content/eda성숙_winsorized.csv')\n",
        "df4 = pd.read_csv('/content/eda쇠퇴_winsorized.csv')"
      ]
    },
    {
      "cell_type": "markdown",
      "source": [
        "### 데이터 분리"
      ],
      "metadata": {
        "id": "mXe76lw4lSLj"
      }
    },
    {
      "cell_type": "code",
      "source": [
        "def split_data(df:pd.DataFrame):\n",
        "  X = df.drop('부실여부',axis=1)\n",
        "  y = df['부실여부']\n",
        "  X_train,X_test,y_train,y_test = train_test_split(X,y,test_size=0.2,random_state=42)\n",
        "  train_df = pd.concat([X_train,y_train],axis=1)\n",
        "  test_df = pd.concat([X_test,y_test],axis=1)\n",
        "  return train_df, test_df\n",
        "\n",
        "df_list = [df1,df2,df3,df4]\n",
        "name_list = ['도입','성장','성숙','쇠퇴']\n",
        "for df, name in zip(df_list,name_list):\n",
        " globals()[f\"train_{name}\"],globals()[f\"test_{name}\"] = split_data(df)"
      ],
      "metadata": {
        "id": "oaFoTW4ClTM4"
      },
      "execution_count": 55,
      "outputs": []
    },
    {
      "cell_type": "code",
      "source": [
        "print(f\"도입기 훈련 데이터 : {train_도입.shape}, 도입기 평가 데이터 : {test_도입.shape}\")\n",
        "print(f\"성장기 훈련 데이터 : {train_성장.shape}, 성장기 평가 데이터 : {test_성장.shape}\")\n",
        "print(f\"성숙기 훈련 데이터 : {train_성숙.shape}, 성숙기 평가 데이터 : {test_성숙.shape}\")\n",
        "print(f\"쇠퇴기 훈련 데이터 : {train_쇠퇴.shape}, 쇠퇴기 평가 데이터 : {test_쇠퇴.shape}\")"
      ],
      "metadata": {
        "colab": {
          "base_uri": "https://localhost:8080/"
        },
        "id": "1-LW8ywzwTJv",
        "outputId": "24032be7-5ca3-4bb0-fda1-2249756f3403"
      },
      "execution_count": 56,
      "outputs": [
        {
          "output_type": "stream",
          "name": "stdout",
          "text": [
            "도입기 훈련 데이터 : (33851, 162), 도입기 평가 데이터 : (8463, 162)\n",
            "성장기 훈련 데이터 : (43180, 162), 성장기 평가 데이터 : (10795, 162)\n",
            "성숙기 훈련 데이터 : (54576, 162), 성숙기 평가 데이터 : (13644, 162)\n",
            "쇠퇴기 훈련 데이터 : (19181, 162), 쇠퇴기 평가 데이터 : (4796, 162)\n"
          ]
        }
      ]
    },
    {
      "cell_type": "markdown",
      "source": [
        "### 1년만 존재하는 데이터는 없앤다"
      ],
      "metadata": {
        "id": "0UB6DBx8mh8n"
      }
    },
    {
      "cell_type": "code",
      "source": [
        "group_counts = train_도입.groupby(['회사명', '거래소코드'])['회계년도'].count()\n",
        "valid_keys = group_counts[group_counts >= 2].index\n",
        "\n",
        "# 각 행의 (회사명, 거래소코드) 튜플이 valid_keys에 있는지 확인\n",
        "train_도입 = train_도입[train_도입.set_index(['회사명', '거래소코드']).index.isin(valid_keys)]"
      ],
      "metadata": {
        "id": "iNWlLuuvmhZh"
      },
      "execution_count": 57,
      "outputs": []
    },
    {
      "cell_type": "code",
      "source": [
        "group_counts = train_성장.groupby(['회사명', '거래소코드'])['회계년도'].count()\n",
        "valid_keys = group_counts[group_counts >= 2].index\n",
        "\n",
        "# 각 행의 (회사명, 거래소코드) 튜플이 valid_keys에 있는지 확인\n",
        "train_성장 = train_성장[train_성장.set_index(['회사명', '거래소코드']).index.isin(valid_keys)]"
      ],
      "metadata": {
        "id": "jNWSIM1NwFPN"
      },
      "execution_count": 58,
      "outputs": []
    },
    {
      "cell_type": "code",
      "source": [
        "group_counts = train_성숙.groupby(['회사명', '거래소코드'])['회계년도'].count()\n",
        "valid_keys = group_counts[group_counts >= 2].index\n",
        "\n",
        "# 각 행의 (회사명, 거래소코드) 튜플이 valid_keys에 있는지 확인\n",
        "train_성숙 = train_성숙[train_성숙.set_index(['회사명', '거래소코드']).index.isin(valid_keys)]"
      ],
      "metadata": {
        "id": "crraci_wwI2c"
      },
      "execution_count": 59,
      "outputs": []
    },
    {
      "cell_type": "code",
      "source": [
        "group_counts = train_쇠퇴.groupby(['회사명', '거래소코드'])['회계년도'].count()\n",
        "valid_keys = group_counts[group_counts >= 2].index\n",
        "\n",
        "# 각 행의 (회사명, 거래소코드) 튜플이 valid_keys에 있는지 확인\n",
        "train_쇠퇴 = train_쇠퇴[train_쇠퇴.set_index(['회사명', '거래소코드']).index.isin(valid_keys)]"
      ],
      "metadata": {
        "id": "UbT3YzH0wLYD"
      },
      "execution_count": 60,
      "outputs": []
    },
    {
      "cell_type": "code",
      "source": [
        "print(train_도입.shape)\n",
        "print(train_성장.shape)\n",
        "print(train_성숙.shape)\n",
        "print(train_쇠퇴.shape)"
      ],
      "metadata": {
        "colab": {
          "base_uri": "https://localhost:8080/"
        },
        "id": "sKud5emsuaam",
        "outputId": "f709c327-c9ad-4ed9-ce41-db7fb9fc2319"
      },
      "execution_count": 61,
      "outputs": [
        {
          "output_type": "stream",
          "name": "stdout",
          "text": [
            "(21275, 162)\n",
            "(32453, 162)\n",
            "(44467, 162)\n",
            "(8928, 162)\n"
          ]
        }
      ]
    },
    {
      "cell_type": "markdown",
      "source": [
        "### 0이 30퍼센트 이상인 컬럼도 없앤다(train 기준)"
      ],
      "metadata": {
        "id": "0nb6SNA2kdO0"
      }
    },
    {
      "cell_type": "code",
      "source": [
        "# 범주형 컬럼 처리\n",
        "object_cols = ['기업규모명', '통계청 한국표준산업분류 11차(대분류)', '상장폐지일', '대표이사변경여부', '수도권', '업력',\n",
        "               '부실여부', 'IFRS', 'IFRS_CONN', 'GAAP', '회계년도연속여부']\n",
        "train_list = [train_도입,train_성장,train_성숙,train_쇠퇴]\n",
        "test_list = [test_도입,test_성장,test_성숙,test_쇠퇴]\n",
        "for train, test in zip(train_list,test_list):\n",
        "  for col in object_cols:\n",
        "    train[col] = train[col].astype('object')\n",
        "    test[col] = test[col].astype('object')"
      ],
      "metadata": {
        "id": "-VV6ab_oox2F"
      },
      "execution_count": 62,
      "outputs": []
    },
    {
      "cell_type": "code",
      "source": [
        "def check_zero(df):\n",
        "  num_cols = df.select_dtypes(exclude='object').columns\n",
        "  lis = []\n",
        "  for col in num_cols:\n",
        "    ratio = len(df[col].loc[df[col]==0])/len(df[col])\n",
        "    if ratio > 0.3:\n",
        "      lis.append(col)\n",
        "  return lis"
      ],
      "metadata": {
        "id": "-9Pxkx6nkk4F"
      },
      "execution_count": 63,
      "outputs": []
    },
    {
      "cell_type": "code",
      "source": [
        "for train,test in zip(train_list,test_list):\n",
        "  drop_cols = check_zero(train)\n",
        "  train.drop(columns=drop_cols,inplace=True)\n",
        "  test.drop(columns=drop_cols,inplace=True)"
      ],
      "metadata": {
        "collapsed": true,
        "id": "8XdwJSWxeJjC"
      },
      "execution_count": 64,
      "outputs": []
    },
    {
      "cell_type": "code",
      "source": [
        "print(f\"도입기 훈련 데이터 : {train_도입.shape}, 도입기 평가 데이터 : {test_도입.shape}\")\n",
        "print(f\"성장기 훈련 데이터 : {train_성장.shape}, 성장기 평가 데이터 : {test_성장.shape}\")\n",
        "print(f\"성숙기 훈련 데이터 : {train_성숙.shape}, 성숙기 평가 데이터 : {test_성숙.shape}\")\n",
        "print(f\"쇠퇴기 훈련 데이터 : {train_쇠퇴.shape}, 쇠퇴기 평가 데이터 : {test_쇠퇴.shape}\")"
      ],
      "metadata": {
        "colab": {
          "base_uri": "https://localhost:8080/"
        },
        "id": "j-p4UySRpbZ2",
        "outputId": "21d4065e-fca4-4d51-852f-b64153d7fe24"
      },
      "execution_count": 65,
      "outputs": [
        {
          "output_type": "stream",
          "name": "stdout",
          "text": [
            "도입기 훈련 데이터 : (21275, 126), 도입기 평가 데이터 : (8463, 126)\n",
            "성장기 훈련 데이터 : (32453, 136), 성장기 평가 데이터 : (10795, 136)\n",
            "성숙기 훈련 데이터 : (44467, 135), 성숙기 평가 데이터 : (13644, 135)\n",
            "쇠퇴기 훈련 데이터 : (8928, 126), 쇠퇴기 평가 데이터 : (4796, 126)\n"
          ]
        }
      ]
    },
    {
      "cell_type": "markdown",
      "source": [
        "### 결측치 처리 : 회사 그룹별로 데이터가 있으면 회사 중앙값"
      ],
      "metadata": {
        "id": "ddvIQF6lEBYk"
      }
    },
    {
      "cell_type": "markdown",
      "source": [
        "## 수치형"
      ],
      "metadata": {
        "id": "sR0aPMQ_Netz"
      }
    },
    {
      "cell_type": "code",
      "source": [
        "numeric_cols1 = train_도입.select_dtypes(include=[np.number]).columns\n",
        "numeric_cols2 = train_성장.select_dtypes(include=[np.number]).columns\n",
        "numeric_cols3 = train_성숙.select_dtypes(include=[np.number]).columns\n",
        "numeric_cols4 = train_쇠퇴.select_dtypes(include=[np.number]).columns\n",
        "print(f\"도입기 훈련 데이터 결측치 수 : {train_도입[numeric_cols1].isna().sum().sum()}, 도입기 평가 데이터 결측치 수 : {test_도입[numeric_cols1].isna().sum().sum()}\")\n",
        "print(f\"성장기 훈련 데이터 결측치 수 : {train_성장[numeric_cols2].isna().sum().sum()}, 성장기 평가 데이터 결측치 수 : {test_성장[numeric_cols2].isna().sum().sum()}\")\n",
        "print(f\"성숙기 훈련 데이터 결측치 수 : {train_성숙[numeric_cols3].isna().sum().sum()}, 성숙기 평가 데이터 결측치 수 : {test_성숙[numeric_cols3].isna().sum().sum()}\")\n",
        "print(f\"쇠퇴기 훈련 데이터 결측치 수 : {train_쇠퇴[numeric_cols4].isna().sum().sum()}, 쇠퇴기 평가 데이터 결측치 수 : {test_쇠퇴[numeric_cols4].isna().sum().sum()}\")"
      ],
      "metadata": {
        "colab": {
          "base_uri": "https://localhost:8080/"
        },
        "id": "a8ZIH6JIxugS",
        "outputId": "1df7d302-6aae-4519-b67b-88e0394a4c65"
      },
      "execution_count": 66,
      "outputs": [
        {
          "output_type": "stream",
          "name": "stdout",
          "text": [
            "도입기 훈련 데이터 결측치 수 : 2477, 도입기 평가 데이터 결측치 수 : 1155\n",
            "성장기 훈련 데이터 결측치 수 : 4816, 성장기 평가 데이터 결측치 수 : 1440\n",
            "성숙기 훈련 데이터 결측치 수 : 5087, 성숙기 평가 데이터 결측치 수 : 1801\n",
            "쇠퇴기 훈련 데이터 결측치 수 : 1317, 쇠퇴기 평가 데이터 결측치 수 : 653\n"
          ]
        }
      ]
    },
    {
      "cell_type": "code",
      "source": [
        "# tqdm 설정\n",
        "tqdm.pandas()\n",
        "\n",
        "def fill_na(df):\n",
        "    group_cols = ['회사명', '거래소코드']\n",
        "    numeric_cols = df.select_dtypes(include='number').columns\n",
        "\n",
        "    # 그룹별 중앙값 계산\n",
        "    group_medians = df.groupby(group_cols)[numeric_cols].median()\n",
        "\n",
        "    # 각 행에 대해 결측치를 중앙값으로 채움 (단, 중앙값이 NaN이면 그대로 둠)\n",
        "    def fill_with_group_median(row):\n",
        "        key = (row['회사명'], row['거래소코드'])\n",
        "        if key in group_medians.index:\n",
        "            for col in numeric_cols:\n",
        "                if pd.isna(row[col]):\n",
        "                    median_val = group_medians.loc[key, col]\n",
        "                    if not pd.isna(median_val):\n",
        "                        row[col] = median_val\n",
        "        return row\n",
        "\n",
        "    # 진행률 표시하면서 적용\n",
        "    df = df.progress_apply(fill_with_group_median, axis=1)\n",
        "    return df\n",
        "\n",
        "# 학습/테스트 리스트\n",
        "result = []\n",
        "for train, test in zip(train_list, test_list):\n",
        "    train = fill_na(train)\n",
        "    test = fill_na(test)\n",
        "    result.append(train)\n",
        "    result.append(test)"
      ],
      "metadata": {
        "id": "pZSMxRA3EAXk",
        "colab": {
          "base_uri": "https://localhost:8080/"
        },
        "outputId": "8754bda7-fd25-466f-e0fb-85f5a25a92ae"
      },
      "execution_count": 67,
      "outputs": [
        {
          "output_type": "stream",
          "name": "stderr",
          "text": [
            "100%|██████████| 21275/21275 [00:10<00:00, 2061.10it/s]\n",
            "100%|██████████| 8463/8463 [00:04<00:00, 1732.90it/s]\n",
            "100%|██████████| 32453/32453 [00:16<00:00, 1996.89it/s]\n",
            "100%|██████████| 10795/10795 [00:05<00:00, 1875.57it/s]\n",
            "100%|██████████| 44467/44467 [00:25<00:00, 1778.27it/s]\n",
            "100%|██████████| 13644/13644 [00:06<00:00, 2194.51it/s]\n",
            "100%|██████████| 8928/8928 [00:03<00:00, 2590.88it/s]\n",
            "100%|██████████| 4796/4796 [00:03<00:00, 1467.19it/s]\n"
          ]
        }
      ]
    },
    {
      "cell_type": "code",
      "source": [
        "train_도입=result[0].fillna(0)\n",
        "test_도입 =result[1].fillna(0)\n",
        "train_성장=result[2].fillna(0)\n",
        "test_성장=result[3].fillna(0)\n",
        "train_성숙=result[4].fillna(0)\n",
        "test_성숙=result[5].fillna(0)\n",
        "train_쇠퇴=result[6].fillna(0)\n",
        "test_쇠퇴=result[7].fillna(0)\n",
        "print(f\"도입기 훈련 데이터 결측치 수 : {train_도입[numeric_cols1].isna().sum().sum()}, 도입기 평가 데이터 결측치 수 : {test_도입[numeric_cols1].isna().sum().sum()}\")\n",
        "print(f\"성장기 훈련 데이터 결측치 수 : {train_성장[numeric_cols2].isna().sum().sum()}, 성장기 평가 데이터 결측치 수 : {test_성장[numeric_cols2].isna().sum().sum()}\")\n",
        "print(f\"성숙기 훈련 데이터 결측치 수 : {train_성숙[numeric_cols3].isna().sum().sum()}, 성숙기 평가 데이터 결측치 수 : {test_성숙[numeric_cols3].isna().sum().sum()}\")\n",
        "print(f\"쇠퇴기 훈련 데이터 결측치 수 : {train_쇠퇴[numeric_cols4].isna().sum().sum()}, 쇠퇴기 평가 데이터 결측치 수 : {test_쇠퇴[numeric_cols4].isna().sum().sum()}\")"
      ],
      "metadata": {
        "colab": {
          "base_uri": "https://localhost:8080/"
        },
        "id": "shZ8qgEdIxcJ",
        "outputId": "788e0c7f-35d8-4327-93dd-5443a1926e61"
      },
      "execution_count": 68,
      "outputs": [
        {
          "output_type": "stream",
          "name": "stdout",
          "text": [
            "도입기 훈련 데이터 결측치 수 : 0, 도입기 평가 데이터 결측치 수 : 0\n",
            "성장기 훈련 데이터 결측치 수 : 0, 성장기 평가 데이터 결측치 수 : 0\n",
            "성숙기 훈련 데이터 결측치 수 : 0, 성숙기 평가 데이터 결측치 수 : 0\n",
            "쇠퇴기 훈련 데이터 결측치 수 : 0, 쇠퇴기 평가 데이터 결측치 수 : 0\n"
          ]
        }
      ]
    },
    {
      "cell_type": "markdown",
      "source": [
        "## 범주형"
      ],
      "metadata": {
        "id": "-Zo6OgqANrCt"
      }
    },
    {
      "cell_type": "code",
      "source": [
        "# 기업규모명 삭제\n",
        "train_도입.drop(['기업규모명','상장폐지일'],axis=1,inplace=True)\n",
        "train_성장.drop(['기업규모명','상장폐지일'],axis=1,inplace=True)\n",
        "train_성숙.drop(['기업규모명','상장폐지일'],axis=1,inplace=True)\n",
        "train_쇠퇴.drop(['기업규모명','상장폐지일'],axis=1,inplace=True)\n",
        "test_도입.drop(['기업규모명','상장폐지일'],axis=1,inplace=True)\n",
        "test_성장.drop(['기업규모명','상장폐지일'],axis=1,inplace=True)\n",
        "test_성숙.drop(['기업규모명','상장폐지일'],axis=1,inplace=True)\n",
        "test_쇠퇴.drop(['기업규모명','상장폐지일'],axis=1,inplace=True)"
      ],
      "metadata": {
        "id": "-ywYQNSdK7g4"
      },
      "execution_count": 69,
      "outputs": []
    },
    {
      "cell_type": "code",
      "source": [
        "object_cols1 = train_도입.select_dtypes('object').columns\n",
        "object_cols2 = train_성장.select_dtypes('object').columns\n",
        "object_cols3 = train_성숙.select_dtypes('object').columns\n",
        "object_cols4 = train_쇠퇴.select_dtypes('object').columns\n",
        "print(f\"도입기 훈련 데이터 결측치 수 : {train_도입[object_cols1].isna().sum().sum()}, 도입기 평가 데이터 결측치 수 : {test_도입[object_cols1].isna().sum().sum()}\")\n",
        "print(f\"성장기 훈련 데이터 결측치 수 : {train_성장[object_cols2].isna().sum().sum()}, 성장기 평가 데이터 결측치 수 : {test_성장[object_cols2].isna().sum().sum()}\")\n",
        "print(f\"성숙기 훈련 데이터 결측치 수 : {train_성숙[object_cols3].isna().sum().sum()}, 성숙기 평가 데이터 결측치 수 : {test_성숙[object_cols3].isna().sum().sum()}\")\n",
        "print(f\"쇠퇴기 훈련 데이터 결측치 수 : {train_쇠퇴[object_cols4].isna().sum().sum()}, 쇠퇴기 평가 데이터 결측치 수 : {test_쇠퇴[object_cols4].isna().sum().sum()}\")"
      ],
      "metadata": {
        "colab": {
          "base_uri": "https://localhost:8080/"
        },
        "id": "XByLfKdaMgJ2",
        "outputId": "9dcea6f8-ade6-4cca-85ce-c07d60dda262"
      },
      "execution_count": 70,
      "outputs": [
        {
          "output_type": "stream",
          "name": "stdout",
          "text": [
            "도입기 훈련 데이터 결측치 수 : 0, 도입기 평가 데이터 결측치 수 : 0\n",
            "성장기 훈련 데이터 결측치 수 : 0, 성장기 평가 데이터 결측치 수 : 0\n",
            "성숙기 훈련 데이터 결측치 수 : 0, 성숙기 평가 데이터 결측치 수 : 0\n",
            "쇠퇴기 훈련 데이터 결측치 수 : 0, 쇠퇴기 평가 데이터 결측치 수 : 0\n"
          ]
        }
      ]
    },
    {
      "cell_type": "markdown",
      "source": [
        "### 파생변수 추가하기"
      ],
      "metadata": {
        "id": "x3YYmzDEOG7u"
      }
    },
    {
      "cell_type": "code",
      "source": [
        "def add_derived_vars_no_lag(df: pd.DataFrame) -> pd.DataFrame:\n",
        "    df = df.copy()\n",
        "\n",
        "    # 0) 로그 변환 지표 추가\n",
        "    df['/ 로그매출액'] = np.log(df['매출액(천원)'].replace(0, np.nan))\n",
        "    df['/ 로그자산']   = np.log(df['자산(천원)'].replace(0, np.nan))\n",
        "\n",
        "    # 안전 나눗셈 도우미\n",
        "    def safe_div(num, denom):\n",
        "        return np.where(denom == 0, np.nan, num / denom)\n",
        "\n",
        "    # 1) 안정성 비율\n",
        "    df['/ 현금/총자산 비율'] = safe_div(df['현금및현금성자산(천원)'], df['자산(천원)'])\n",
        "    df['/ 이익잉여금/총자산 비율'] = safe_div(df['이익잉여금(천원)'], df['자산(천원)'])\n",
        "    df['/ 급여/총자산 비율'] = safe_div(df['급여(천원)'],df['자산(천원)'])\n",
        "\n",
        "    # 2) 비용·레버리지·효율\n",
        "    df['/ 급여/매출액 비율'] = safe_div(df['급여(천원)'],df['매출액(천원)'])\n",
        "    df['/ 업력 효율지수'] = safe_div(df['매출액(천원)'],df['업력'])\n",
        "    df['/ 매출원가/부채 비율'] = safe_div(df['매출원가(천원)'],df['부채(천원)'])\n",
        "    df['/ 급여/세전순익 비율'] = safe_div(df['급여(천원)'],df['법인세비용차감전손익(천원)'])\n",
        "\n",
        "    # 3) 추가 비용·레버리지 지표\n",
        "    df['/ 금융비용부담률'] = safe_div(df['이자비용(천원)'], df['매출액(천원)'])\n",
        "\n",
        "    # 4) 현금흐름 변수\n",
        "    df['/ 영업CF/자산 비율'] = safe_div(df['영업현금흐름(천원)'],df['자산(천원)'])\n",
        "    df['/ 투자CF/자산 비율'] = safe_div(df['투자활동으로 인한 현금흐름(*)(천원)'], df['자산(천원)'])\n",
        "    df['/ 영업CF/유동부채 비율'] = safe_div(df['영업현금흐름(천원)'],df['유동부채(천원)'])\n",
        "    total_borrow = df.get('총차입금(천원)', df['부채(천원)'])\n",
        "    df['/ 재무CF/총차입금 비율'] = safe_div(df['재무활동으로 인한 현금흐름(*)(천원)'], total_borrow)\n",
        "\n",
        "    # 5) 통합현금흐름 긍정여부\n",
        "    cf_sum = (\n",
        "        df['영업현금흐름(천원)']\n",
        "      + df['투자활동으로 인한 현금흐름(*)(천원)']\n",
        "      + df['재무활동으로 인한 현금흐름(*)(천원)']\n",
        "    )\n",
        "    df['/ 현금흐름통합_긍정여부'] = np.where(cf_sum > 0, 1, 0)\n",
        "\n",
        "    # 6) 투하자본수익률 (영업이익 ÷ (자본+부채) ×100)\n",
        "    total_cap = df['자본(천원)'] + df['부채(천원)']\n",
        "    df['/ 투하자본수익률'] = safe_div(df['영업이익(손실)(천원)'], total_cap) * 100\n",
        "\n",
        "    # 7) EBIT\n",
        "    df['EBIT'] = df['법인세비용차감전손익(천원)'] + df['이자비용(천원)']\n",
        "    df['EBIT / 자산'] = df['EBIT']/df['자산(천원)']\n",
        "    df['EBIT / 매출액'] = df['EBIT']/df['매출액(천원)']\n",
        "    df['EBIT / 영업현금흐름(천원)'] = df['EBIT']/df['영업현금흐름(천원)']\n",
        "\n",
        "    # 8) 업력\n",
        "    df['업력_범주12'] = df['업력'].map(lambda x : 1 if x>12 else 0)\n",
        "\n",
        "    # 9) 무한대 → NaN\n",
        "    df.replace([np.inf, -np.inf], np.nan, inplace=True)\n",
        "    return df\n",
        "\n",
        "train_도입_파생 = add_derived_vars_no_lag(train_도입)\n",
        "train_성장_파생 = add_derived_vars_no_lag(train_성장)\n",
        "train_성숙_파생 = add_derived_vars_no_lag(train_성숙)\n",
        "train_쇠퇴_파생 = add_derived_vars_no_lag(train_쇠퇴)\n",
        "test_도입_파생 = add_derived_vars_no_lag(test_도입)\n",
        "test_성장_파생 = add_derived_vars_no_lag(test_성장)\n",
        "test_성숙_파생 = add_derived_vars_no_lag(test_성숙)\n",
        "test_쇠퇴_파생 = add_derived_vars_no_lag(test_쇠퇴)"
      ],
      "metadata": {
        "colab": {
          "base_uri": "https://localhost:8080/"
        },
        "id": "hJcFyvl8Nxte",
        "outputId": "ad189afc-005b-448e-9a16-ef4a08bcfb7a"
      },
      "execution_count": 75,
      "outputs": [
        {
          "output_type": "stream",
          "name": "stderr",
          "text": [
            "/usr/local/lib/python3.11/dist-packages/pandas/core/arraylike.py:399: RuntimeWarning: invalid value encountered in log\n",
            "  result = getattr(ufunc, method)(*inputs, **kwargs)\n",
            "/usr/local/lib/python3.11/dist-packages/pandas/core/arraylike.py:399: RuntimeWarning: invalid value encountered in log\n",
            "  result = getattr(ufunc, method)(*inputs, **kwargs)\n",
            "/usr/local/lib/python3.11/dist-packages/pandas/core/arraylike.py:399: RuntimeWarning: invalid value encountered in log\n",
            "  result = getattr(ufunc, method)(*inputs, **kwargs)\n",
            "/usr/local/lib/python3.11/dist-packages/pandas/core/arraylike.py:399: RuntimeWarning: invalid value encountered in log\n",
            "  result = getattr(ufunc, method)(*inputs, **kwargs)\n",
            "/usr/local/lib/python3.11/dist-packages/pandas/core/arraylike.py:399: RuntimeWarning: invalid value encountered in log\n",
            "  result = getattr(ufunc, method)(*inputs, **kwargs)\n",
            "/usr/local/lib/python3.11/dist-packages/pandas/core/arraylike.py:399: RuntimeWarning: invalid value encountered in log\n",
            "  result = getattr(ufunc, method)(*inputs, **kwargs)\n",
            "/usr/local/lib/python3.11/dist-packages/pandas/core/arraylike.py:399: RuntimeWarning: invalid value encountered in log\n",
            "  result = getattr(ufunc, method)(*inputs, **kwargs)\n",
            "/usr/local/lib/python3.11/dist-packages/pandas/core/arraylike.py:399: RuntimeWarning: invalid value encountered in log\n",
            "  result = getattr(ufunc, method)(*inputs, **kwargs)\n"
          ]
        }
      ]
    },
    {
      "cell_type": "code",
      "source": [
        "# 파생변수에 사용된 컬럼 제거\n",
        "derivate_col = ['매출액(천원)','자산(천원)','현금및현금성자산(천원)','이익잉여금(천원)','급여(천원)','업력',\n",
        "'매출원가(천원)','부채(천원)','법인세비용차감전손익(천원)','이자비용(천원)','영업현금흐름(천원)',\n",
        "'투자활동으로 인한 현금흐름(*)(천원)','유동부채(천원)','재무활동으로 인한 현금흐름(*)(천원)',\n",
        "'영업이익(손실)(천원)','EBIT']\n",
        "\n",
        "train_도입_파생.drop(columns=derivate_col,inplace=True)\n",
        "train_성장_파생.drop(columns=derivate_col,inplace=True)\n",
        "train_성숙_파생.drop(columns=derivate_col,inplace=True)\n",
        "train_쇠퇴_파생.drop(columns=derivate_col,inplace=True)\n",
        "test_도입_파생.drop(columns=derivate_col,inplace=True)\n",
        "test_성장_파생.drop(columns=derivate_col,inplace=True)\n",
        "test_성숙_파생.drop(columns=derivate_col,inplace=True)\n",
        "test_쇠퇴_파생.drop(columns=derivate_col,inplace=True)"
      ],
      "metadata": {
        "id": "SxYsmecdO2n7"
      },
      "execution_count": 76,
      "outputs": []
    },
    {
      "cell_type": "code",
      "source": [
        "# 파일 보내기\n",
        "train_도입_파생.to_csv('도입기_train.csv',index=False)\n",
        "train_성장_파생.to_csv('성장기_train.csv',index=False)\n",
        "train_성숙_파생.to_csv('성숙기_train.csv',index=False)\n",
        "train_쇠퇴_파생.to_csv('쇠퇴기_train.csv',index=False)\n",
        "test_도입_파생.to_csv('도입기_test.csv',index=False)\n",
        "test_성장_파생.to_csv('성장기_test.csv',index=False)\n",
        "test_성숙_파생.to_csv('성숙기_test.csv',index=False)\n",
        "test_쇠퇴_파생.to_csv('쇠퇴기_test.csv',index=False)"
      ],
      "metadata": {
        "id": "3C0va2TWRLur"
      },
      "execution_count": 78,
      "outputs": []
    }
  ]
}